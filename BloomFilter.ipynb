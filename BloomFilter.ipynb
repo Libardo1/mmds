{
 "cells": [
  {
   "cell_type": "code",
   "execution_count": 259,
   "metadata": {
    "collapsed": true
   },
   "outputs": [],
   "source": [
    "import numpy as np\n",
    "from bitarray import bitarray\n",
    "import random"
   ]
  },
  {
   "cell_type": "code",
   "execution_count": 260,
   "metadata": {
    "collapsed": false
   },
   "outputs": [
    {
     "name": "stdout",
     "output_type": "stream",
     "text": [
      "23\n"
     ]
    }
   ],
   "source": [
    "## define some helper methods\n",
    "\n",
    "# @param ca,cb: hashing coefficients\n",
    "# @param val: value to be hashed\n",
    "# @param prime: size of hash table\n",
    "# @return: hash \n",
    "def my_hash(ca, cb, val, prime): return (a*val + b) % prime\n",
    "\n",
    "# set True to @position in @bitar:bitarray\n",
    "def update_bloom(position, bitarr): bitarr[position] = 1\n",
    "\n",
    "# find next prime number\n",
    "def find_next_prime(n): return find_prime_in_range(n, 2*n)\n",
    "\n",
    "def find_prime_in_range(a, b):\n",
    "    for p in range(a, b):\n",
    "        for i in range(2, p):\n",
    "            if p % i == 0:\n",
    "                break\n",
    "        else:\n",
    "            return p\n",
    "    return None\n",
    "\n",
    "# test\n",
    "print find_next_prime(19+1)"
   ]
  },
  {
   "cell_type": "code",
   "execution_count": 261,
   "metadata": {
    "collapsed": false
   },
   "outputs": [],
   "source": [
    "# example list of spam emails\n",
    "email_list = [\"spammer1@gmail.com\", \"spammer2@viagra.com\",\n",
    "              \"spammer2@gmail.com\",\"imnotAspammer@gmail.com\",\n",
    "              \"checkmywebsite@hotmail.com\", \"dark_net@yougotme.com\"]\n"
   ]
  },
  {
   "cell_type": "code",
   "execution_count": 262,
   "metadata": {
    "collapsed": false
   },
   "outputs": [
    {
     "name": "stdout",
     "output_type": "stream",
     "text": [
      "Bloom Filter: bitarray('00000000000')\n"
     ]
    }
   ],
   "source": [
    "# initialise bloom filter\n",
    "bloom_filter = bitarray(hashtable_size)\n",
    "# set all bits to 0\n",
    "bloom_filter[:] = False\n",
    "print \"Bloom Filter:\", bloom_filter"
   ]
  },
  {
   "cell_type": "code",
   "execution_count": 263,
   "metadata": {
    "collapsed": false
   },
   "outputs": [
    {
     "data": {
      "text/plain": [
       "[1757, 1870, 1758, 2324, 2674, 2158]"
      ]
     },
     "execution_count": 263,
     "metadata": {},
     "output_type": "execute_result"
    }
   ],
   "source": [
    "# calculate unicode sum of characters for every email-address\n",
    "email_unicode_sum_list = [sum([ord(char) for char in email]) for email in email_list]\n",
    "email_unicode_sum_list"
   ]
  },
  {
   "cell_type": "code",
   "execution_count": 264,
   "metadata": {
    "collapsed": false
   },
   "outputs": [
    {
     "name": "stdout",
     "output_type": "stream",
     "text": [
      "666 2389\n"
     ]
    }
   ],
   "source": [
    "#The coefficients a and b are randomly chosen integers less than the maximum value of x. \n",
    "#c is a prime number slightly bigger than the maximum value of x.\n",
    "\n",
    "# h_x = (a*x + b)%c\n",
    "\n",
    "# choose 2 random numbers up to maximum unicode value \n",
    "# and set them to be hashing coefficients\n",
    "a = random.randint(1, max(email_unicode_sum_list)-1)\n",
    "b = random.randint(2, max(email_unicode_sum_list)-1)\n",
    "\n",
    "print a,b"
   ]
  },
  {
   "cell_type": "code",
   "execution_count": 265,
   "metadata": {
    "collapsed": false
   },
   "outputs": [
    {
     "data": {
      "text/plain": [
       "11"
      ]
     },
     "execution_count": 265,
     "metadata": {},
     "output_type": "execute_result"
    }
   ],
   "source": [
    "# since we have fixed size of input, the hashtable could have 1.0 load factor\n",
    "# yet, 0.75 load has much less colisions\n",
    "# choose next prime number from the number of elements in email list\n",
    "hashtable_size = find_next_prime(int(round(len(email_unicode_sum_list)*1.25)))\n",
    "hashtable_size"
   ]
  },
  {
   "cell_type": "code",
   "execution_count": 266,
   "metadata": {
    "collapsed": true
   },
   "outputs": [],
   "source": [
    "# hash emails\n",
    "hash_list = [my_hash(a,b,unicode_sum,hashtable_size) for unicode_sum  in email_unicode_sum_list]"
   ]
  },
  {
   "cell_type": "code",
   "execution_count": 267,
   "metadata": {
    "collapsed": false
   },
   "outputs": [
    {
     "data": {
      "text/plain": [
       "[('spammer1@gmail.com', '->', 1757, '->', 6),\n",
       " ('spammer2@viagra.com', '->', 1870, '->', 2),\n",
       " ('spammer2@gmail.com', '->', 1758, '->', 1),\n",
       " ('imnotAspammer@gmail.com', '->', 2324, '->', 9),\n",
       " ('checkmywebsite@hotmail.com', '->', 2674, '->', 8),\n",
       " ('dark_net@yougotme.com', '->', 2158, '->', 3)]"
      ]
     },
     "execution_count": 267,
     "metadata": {},
     "output_type": "execute_result"
    }
   ],
   "source": [
    "# assign hash_values & unicode-sums to emails\n",
    "[(email,\"->\",unicode_sum, \"->\", hashp) for email, unicode_sum, hashp in zip(email_list, email_unicode_sum_list, hash_list)]"
   ]
  },
  {
   "cell_type": "code",
   "execution_count": 269,
   "metadata": {
    "collapsed": false
   },
   "outputs": [
    {
     "data": {
      "text/plain": [
       "bitarray('01110010110')"
      ]
     },
     "execution_count": 269,
     "metadata": {},
     "output_type": "execute_result"
    }
   ],
   "source": [
    "# update bloom filter\n",
    "[update_bloom(index, bloom_filter) for index in hash_list]\n",
    "# check updated bloom filter\n",
    "bloom_filter"
   ]
  },
  {
   "cell_type": "code",
   "execution_count": 271,
   "metadata": {
    "collapsed": false
   },
   "outputs": [
    {
     "name": "stdout",
     "output_type": "stream",
     "text": [
      "spammer1@gmail.com has ALREADY been seen\n",
      "spammer2@viagra.com has ALREADY been seen\n",
      "spammer2@gmail.com has ALREADY been seen\n",
      "imnotAspammer@gmail.com has ALREADY been seen\n",
      "checkmywebsite@hotmail.com has ALREADY been seen\n",
      "dark_net@yougotme.com has ALREADY been seen\n"
     ]
    }
   ],
   "source": [
    "## now do some tests\n",
    "# for every email in the list check if it has already been seen by bloom filter\n",
    "for email in email_list:\n",
    "    if bloom_filter[my_hash(a,b,sum([ord(char) for char in email]),hashtable_size)] == True: \n",
    "        print email, \"has ALREADY been seen\";\n",
    "    else:\n",
    "        print email, \"has NOT been seen\";"
   ]
  },
  {
   "cell_type": "code",
   "execution_count": null,
   "metadata": {
    "collapsed": true
   },
   "outputs": [],
   "source": []
  }
 ],
 "metadata": {
  "kernelspec": {
   "display_name": "Python 2",
   "language": "python",
   "name": "python2"
  },
  "language_info": {
   "codemirror_mode": {
    "name": "ipython",
    "version": 2
   },
   "file_extension": ".py",
   "mimetype": "text/x-python",
   "name": "python",
   "nbconvert_exporter": "python",
   "pygments_lexer": "ipython2",
   "version": "2.7.10"
  }
 },
 "nbformat": 4,
 "nbformat_minor": 0
}
