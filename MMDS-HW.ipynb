{
 "cells": [
  {
   "cell_type": "code",
   "execution_count": 14,
   "metadata": {
    "collapsed": false
   },
   "outputs": [],
   "source": [
    "import numpy as np\n",
    "import scipy as sc\n",
    "from scipy import spatial\n",
    "from pandas import Series,DataFrame\n",
    "import pandas as pd\n",
    "import time\n",
    "import datetime\n",
    "\n",
    "import matplotlib.pyplot as plt\n",
    "import matplotlib as mpl\n",
    "\n",
    "from fractions import Fraction\n",
    "\n",
    "%matplotlib inline\n",
    "mpl.rcParams['figure.figsize'] = (10.0, 5.0)"
   ]
  },
  {
   "cell_type": "code",
   "execution_count": 13,
   "metadata": {
    "collapsed": false
   },
   "outputs": [
    {
     "name": "stdout",
     "output_type": "stream",
     "text": [
      "[[ 0.333]\n",
      " [ 0.192]\n",
      " [ 0.475]]\n",
      "[[ 0.454]\n",
      " [ 0.192]\n",
      " [ 0.355]]\n",
      "[[ 0.351]\n",
      " [ 0.243]\n",
      " [ 0.406]]\n",
      "[[ 0.395]\n",
      " [ 0.199]\n",
      " [ 0.406]]\n",
      "[[ 0.395]\n",
      " [ 0.218]\n",
      " [ 0.387]]\n",
      "[[ 0.379]\n",
      " [ 0.218]\n",
      " [ 0.403]]\n",
      "[[ 0.393]\n",
      " [ 0.211]\n",
      " [ 0.396]]\n",
      "[[ 0.387]\n",
      " [ 0.217]\n",
      " [ 0.396]]\n",
      "[[ 0.387]\n",
      " [ 0.214]\n",
      " [ 0.399]]\n",
      "[[ 0.389]\n",
      " [ 0.214]\n",
      " [ 0.397]]\n",
      "[[ 0.387]\n",
      " [ 0.215]\n",
      " [ 0.398]]\n",
      "[[ 0.388]\n",
      " [ 0.215]\n",
      " [ 0.398]]\n",
      "[[ 0.388]\n",
      " [ 0.215]\n",
      " [ 0.397]]\n",
      "[[ 0.388]\n",
      " [ 0.215]\n",
      " [ 0.397]]\n",
      "[[ 0.388]\n",
      " [ 0.215]\n",
      " [ 0.397]]\n",
      "[[ 0.388]\n",
      " [ 0.215]\n",
      " [ 0.397]]\n",
      "[[ 0.388]\n",
      " [ 0.215]\n",
      " [ 0.397]]\n",
      "[[ 0.388]\n",
      " [ 0.215]\n",
      " [ 0.397]]\n",
      "[[ 0.388]\n",
      " [ 0.215]\n",
      " [ 0.397]]\n",
      "[[ 0.388]\n",
      " [ 0.215]\n",
      " [ 0.397]]\n",
      "[[ 0.388]\n",
      " [ 0.215]\n",
      " [ 0.397]]\n",
      "[[ 0.388]\n",
      " [ 0.215]\n",
      " [ 0.397]]\n",
      "[[ 0.388]\n",
      " [ 0.215]\n",
      " [ 0.397]]\n",
      "[[ 0.388]\n",
      " [ 0.215]\n",
      " [ 0.397]]\n",
      "[[ 0.388]\n",
      " [ 0.215]\n",
      " [ 0.397]]\n",
      "[[ 0.388]\n",
      " [ 0.215]\n",
      " [ 0.397]]\n",
      "[[ 0.388]\n",
      " [ 0.215]\n",
      " [ 0.397]]\n",
      "[[ 0.388]\n",
      " [ 0.215]\n",
      " [ 0.397]]\n",
      "[[ 0.388]\n",
      " [ 0.215]\n",
      " [ 0.397]]\n",
      "[[ 0.388]\n",
      " [ 0.215]\n",
      " [ 0.397]]\n",
      "[[ 0.388]\n",
      " [ 0.215]\n",
      " [ 0.397]]\n",
      "[[ 0.388]\n",
      " [ 0.215]\n",
      " [ 0.397]]\n",
      "[[ 0.388]\n",
      " [ 0.215]\n",
      " [ 0.397]]\n",
      "[[ 0.388]\n",
      " [ 0.215]\n",
      " [ 0.397]]\n",
      "[[ 0.388]\n",
      " [ 0.215]\n",
      " [ 0.397]]\n",
      "[[ 0.388]\n",
      " [ 0.215]\n",
      " [ 0.397]]\n",
      "[[ 0.388]\n",
      " [ 0.215]\n",
      " [ 0.397]]\n",
      "[[ 0.388]\n",
      " [ 0.215]\n",
      " [ 0.397]]\n",
      "[[ 0.388]\n",
      " [ 0.215]\n",
      " [ 0.397]]\n",
      "[[ 0.388]\n",
      " [ 0.215]\n",
      " [ 0.397]]\n",
      "[[ 0.388]\n",
      " [ 0.215]\n",
      " [ 0.397]]\n",
      "[[ 0.388]\n",
      " [ 0.215]\n",
      " [ 0.397]]\n",
      "[[ 0.388]\n",
      " [ 0.215]\n",
      " [ 0.397]]\n",
      "[[ 0.388]\n",
      " [ 0.215]\n",
      " [ 0.397]]\n",
      "[[ 0.388]\n",
      " [ 0.215]\n",
      " [ 0.397]]\n",
      "[[ 0.388]\n",
      " [ 0.215]\n",
      " [ 0.397]]\n",
      "[[ 0.388]\n",
      " [ 0.215]\n",
      " [ 0.397]]\n",
      "[[ 0.388]\n",
      " [ 0.215]\n",
      " [ 0.397]]\n",
      "[[ 0.388]\n",
      " [ 0.215]\n",
      " [ 0.397]]\n",
      "[[ 0.388]\n",
      " [ 0.215]\n",
      " [ 0.397]]\n",
      "[[ 0.388]\n",
      " [ 0.215]\n",
      " [ 0.397]]\n",
      "[[ 0.388]\n",
      " [ 0.215]\n",
      " [ 0.397]]\n",
      "[[ 0.388]\n",
      " [ 0.215]\n",
      " [ 0.397]]\n",
      "[[ 0.388]\n",
      " [ 0.215]\n",
      " [ 0.397]]\n",
      "[[ 0.388]\n",
      " [ 0.215]\n",
      " [ 0.397]]\n",
      "[[ 0.388]\n",
      " [ 0.215]\n",
      " [ 0.397]]\n",
      "[[ 0.388]\n",
      " [ 0.215]\n",
      " [ 0.397]]\n",
      "[[ 0.388]\n",
      " [ 0.215]\n",
      " [ 0.397]]\n",
      "[[ 0.388]\n",
      " [ 0.215]\n",
      " [ 0.397]]\n",
      "[[ 0.388]\n",
      " [ 0.215]\n",
      " [ 0.397]]\n",
      "[[ 0.388]\n",
      " [ 0.215]\n",
      " [ 0.397]]\n",
      "[[ 0.388]\n",
      " [ 0.215]\n",
      " [ 0.397]]\n",
      "[[ 0.388]\n",
      " [ 0.215]\n",
      " [ 0.397]]\n",
      "[[ 0.388]\n",
      " [ 0.215]\n",
      " [ 0.397]]\n",
      "[[ 0.388]\n",
      " [ 0.215]\n",
      " [ 0.397]]\n",
      "[[ 0.388]\n",
      " [ 0.215]\n",
      " [ 0.397]]\n",
      "[[ 0.388]\n",
      " [ 0.215]\n",
      " [ 0.397]]\n",
      "[[ 0.388]\n",
      " [ 0.215]\n",
      " [ 0.397]]\n",
      "[[ 0.388]\n",
      " [ 0.215]\n",
      " [ 0.397]]\n",
      "[[ 0.388]\n",
      " [ 0.215]\n",
      " [ 0.397]]\n",
      "[[ 0.388]\n",
      " [ 0.215]\n",
      " [ 0.397]]\n",
      "[[ 0.388]\n",
      " [ 0.215]\n",
      " [ 0.397]]\n",
      "[[ 0.388]\n",
      " [ 0.215]\n",
      " [ 0.397]]\n",
      "Final:\n",
      "[[ 0.388]\n",
      " [ 0.215]\n",
      " [ 0.397]]\n",
      "sum 1.0\n",
      "PageRank*3: [[ 1.163]\n",
      " [ 0.644]\n",
      " [ 1.192]]\n"
     ]
    }
   ],
   "source": [
    "# keep it clean and tidy\n",
    "def float_format(vector, decimal):\n",
    "    return np.round((vector).astype(np.float), decimals=decimal)\n",
    "    \n",
    "\n",
    "# we have 3 webpages and probability of landing to each one is 1/3\n",
    "\n",
    "#(defaultProbability)\n",
    "dp = Fraction(1,3)\n",
    "\n",
    "# WWW matrix\n",
    "M = np.matrix([[0,0,1],\n",
    "    [Fraction(1,2),0,0],\n",
    "    [Fraction(1,2),1,0]])\n",
    "\n",
    "\n",
    "E = np.zeros((3,3))\n",
    "E[:] = dp\n",
    "\n",
    "# random walk parameter \n",
    "beta = 0.85\n",
    "\n",
    "# WWW matrix\n",
    "A = beta * M + ((1-beta) * E)\n",
    "\n",
    "# initial vector\n",
    "r = np.matrix([dp, dp, dp])\n",
    "r = np.transpose(r)\n",
    "\n",
    "previous_r = r\n",
    "for it in range(1,100):\n",
    "    r = A * r\n",
    "    print float_format(r,3)\n",
    "    #check if converged\n",
    "    if (previous_r==r).all():\n",
    "        break\n",
    "    previous_r = r\n",
    "\n",
    "print \"Final:\\n\", float_format(r,3)    \n",
    "print \"sum\", np.sum(r)\n",
    "    \n",
    "## example 1.2\n",
    "print \"PageRank*3:\", np.round((3*r).astype(np.float), decimals=3)\n"
   ]
  },
  {
   "cell_type": "code",
   "execution_count": 10,
   "metadata": {
    "collapsed": false
   },
   "outputs": [
    {
     "name": "stdout",
     "output_type": "stream",
     "text": [
      "a+b: [[0.7049999999999996]]\n",
      "b+c: [[2.6999999999999984]]\n"
     ]
    }
   ],
   "source": [
    "# question 2\n",
    "r_3 = r*3\n",
    "#r_3\n",
    "np.round((r_3).astype(np.float), decimals=3)\n",
    "print \"a+b:\", r_3[0] + r_3[1]\n",
    "print \"b+c:\", r_3[1] + r_3[2]\n"
   ]
  },
  {
   "cell_type": "code",
   "execution_count": null,
   "metadata": {
    "collapsed": false
   },
   "outputs": [],
   "source": [
    "# questio 3\n"
   ]
  },
  {
   "cell_type": "code",
   "execution_count": null,
   "metadata": {
    "collapsed": false
   },
   "outputs": [],
   "source": []
  },
  {
   "cell_type": "code",
   "execution_count": 217,
   "metadata": {
    "collapsed": false
   },
   "outputs": [
    {
     "data": {
      "text/plain": [
       "matrix([[0, 0, 1],\n",
       "        [Fraction(1, 2), 0, 0],\n",
       "        [Fraction(1, 2), 1, 0]], dtype=object)"
      ]
     },
     "execution_count": 217,
     "metadata": {},
     "output_type": "execute_result"
    }
   ],
   "source": [
    "M"
   ]
  },
  {
   "cell_type": "code",
   "execution_count": 307,
   "metadata": {
    "collapsed": false
   },
   "outputs": [
    {
     "name": "stdout",
     "output_type": "stream",
     "text": [
      "iter 0\n",
      "[[Fraction(1, 3)]\n",
      " [Fraction(1, 6)]\n",
      " [Fraction(1, 2)]]\n",
      "[[ 0.333]\n",
      " [ 0.167]\n",
      " [ 0.5  ]]\n",
      "sum 1\n",
      "iter 1\n",
      "[[Fraction(1, 2)]\n",
      " [Fraction(1, 6)]\n",
      " [Fraction(1, 3)]]\n",
      "[[ 0.5  ]\n",
      " [ 0.167]\n",
      " [ 0.333]]\n",
      "sum 1\n",
      "iter 2\n",
      "[[Fraction(1, 3)]\n",
      " [Fraction(1, 4)]\n",
      " [Fraction(5, 12)]]\n",
      "[[ 0.333]\n",
      " [ 0.25 ]\n",
      " [ 0.417]]\n",
      "sum 1\n",
      "iter 3\n",
      "[[Fraction(5, 12)]\n",
      " [Fraction(1, 6)]\n",
      " [Fraction(5, 12)]]\n",
      "[[ 0.417]\n",
      " [ 0.167]\n",
      " [ 0.417]]\n",
      "sum 1\n",
      "iter 4\n",
      "[[Fraction(5, 12)]\n",
      " [Fraction(5, 24)]\n",
      " [Fraction(3, 8)]]\n",
      "[[ 0.417]\n",
      " [ 0.208]\n",
      " [ 0.375]]\n",
      "sum 1\n",
      "iter 5\n",
      "[[Fraction(3, 8)]\n",
      " [Fraction(5, 24)]\n",
      " [Fraction(5, 12)]]\n",
      "[[ 0.375]\n",
      " [ 0.208]\n",
      " [ 0.417]]\n",
      "sum 1\n",
      "iter 6\n",
      "[[Fraction(5, 12)]\n",
      " [Fraction(3, 16)]\n",
      " [Fraction(19, 48)]]\n",
      "[[ 0.417]\n",
      " [ 0.188]\n",
      " [ 0.396]]\n",
      "sum 1\n",
      "iter 7\n",
      "[[Fraction(19, 48)]\n",
      " [Fraction(5, 24)]\n",
      " [Fraction(19, 48)]]\n",
      "[[ 0.396]\n",
      " [ 0.208]\n",
      " [ 0.396]]\n",
      "sum 1\n",
      "iter 8\n",
      "[[Fraction(19, 48)]\n",
      " [Fraction(19, 96)]\n",
      " [Fraction(13, 32)]]\n",
      "[[ 0.396]\n",
      " [ 0.198]\n",
      " [ 0.406]]\n",
      "sum 1\n",
      "iter 9\n",
      "[[Fraction(13, 32)]\n",
      " [Fraction(19, 96)]\n",
      " [Fraction(19, 48)]]\n",
      "[[ 0.406]\n",
      " [ 0.198]\n",
      " [ 0.396]]\n",
      "sum 1\n",
      "iter 10\n",
      "[[Fraction(19, 48)]\n",
      " [Fraction(13, 64)]\n",
      " [Fraction(77, 192)]]\n",
      "[[ 0.396]\n",
      " [ 0.203]\n",
      " [ 0.401]]\n",
      "sum 1\n",
      "iter 11\n",
      "[[Fraction(77, 192)]\n",
      " [Fraction(19, 96)]\n",
      " [Fraction(77, 192)]]\n",
      "[[ 0.401]\n",
      " [ 0.198]\n",
      " [ 0.401]]\n",
      "sum 1\n",
      "iter 12\n",
      "[[Fraction(77, 192)]\n",
      " [Fraction(77, 384)]\n",
      " [Fraction(51, 128)]]\n",
      "[[ 0.401]\n",
      " [ 0.201]\n",
      " [ 0.398]]\n",
      "sum 1\n",
      "iter 13\n",
      "[[Fraction(51, 128)]\n",
      " [Fraction(77, 384)]\n",
      " [Fraction(77, 192)]]\n",
      "[[ 0.398]\n",
      " [ 0.201]\n",
      " [ 0.401]]\n",
      "sum 1\n",
      "iter 14\n",
      "[[Fraction(77, 192)]\n",
      " [Fraction(51, 256)]\n",
      " [Fraction(307, 768)]]\n",
      "[[ 0.401]\n",
      " [ 0.199]\n",
      " [ 0.4  ]]\n",
      "sum 1\n",
      "iter 15\n",
      "[[Fraction(307, 768)]\n",
      " [Fraction(77, 384)]\n",
      " [Fraction(307, 768)]]\n",
      "[[ 0.4  ]\n",
      " [ 0.201]\n",
      " [ 0.4  ]]\n",
      "sum 1\n",
      "iter 16\n",
      "[[Fraction(307, 768)]\n",
      " [Fraction(307, 1536)]\n",
      " [Fraction(205, 512)]]\n",
      "[[ 0.4]\n",
      " [ 0.2]\n",
      " [ 0.4]]\n",
      "sum 1\n",
      "iter 17\n",
      "[[Fraction(205, 512)]\n",
      " [Fraction(307, 1536)]\n",
      " [Fraction(307, 768)]]\n",
      "[[ 0.4]\n",
      " [ 0.2]\n",
      " [ 0.4]]\n",
      "sum 1\n",
      "iter 18\n",
      "[[Fraction(307, 768)]\n",
      " [Fraction(205, 1024)]\n",
      " [Fraction(1229, 3072)]]\n",
      "[[ 0.4]\n",
      " [ 0.2]\n",
      " [ 0.4]]\n",
      "sum 1\n",
      "iter 19\n",
      "[[Fraction(1229, 3072)]\n",
      " [Fraction(307, 1536)]\n",
      " [Fraction(1229, 3072)]]\n",
      "[[ 0.4]\n",
      " [ 0.2]\n",
      " [ 0.4]]\n",
      "sum 1\n",
      "iter 20\n",
      "[[Fraction(1229, 3072)]\n",
      " [Fraction(1229, 6144)]\n",
      " [Fraction(819, 2048)]]\n",
      "[[ 0.4]\n",
      " [ 0.2]\n",
      " [ 0.4]]\n",
      "sum 1\n",
      "iter 21\n",
      "[[Fraction(819, 2048)]\n",
      " [Fraction(1229, 6144)]\n",
      " [Fraction(1229, 3072)]]\n",
      "[[ 0.4]\n",
      " [ 0.2]\n",
      " [ 0.4]]\n",
      "sum 1\n",
      "iter 22\n",
      "[[Fraction(1229, 3072)]\n",
      " [Fraction(819, 4096)]\n",
      " [Fraction(4915, 12288)]]\n",
      "[[ 0.4]\n",
      " [ 0.2]\n",
      " [ 0.4]]\n",
      "sum 1\n",
      "iter 23\n",
      "[[Fraction(4915, 12288)]\n",
      " [Fraction(1229, 6144)]\n",
      " [Fraction(4915, 12288)]]\n",
      "[[ 0.4]\n",
      " [ 0.2]\n",
      " [ 0.4]]\n",
      "sum 1\n",
      "iter 24\n",
      "[[Fraction(4915, 12288)]\n",
      " [Fraction(4915, 24576)]\n",
      " [Fraction(3277, 8192)]]\n",
      "[[ 0.4]\n",
      " [ 0.2]\n",
      " [ 0.4]]\n",
      "sum 1\n",
      "iter 25\n",
      "[[Fraction(3277, 8192)]\n",
      " [Fraction(4915, 24576)]\n",
      " [Fraction(4915, 12288)]]\n",
      "[[ 0.4]\n",
      " [ 0.2]\n",
      " [ 0.4]]\n",
      "sum 1\n",
      "iter 26\n",
      "[[Fraction(4915, 12288)]\n",
      " [Fraction(3277, 16384)]\n",
      " [Fraction(19661, 49152)]]\n",
      "[[ 0.4]\n",
      " [ 0.2]\n",
      " [ 0.4]]\n",
      "sum 1\n",
      "iter 27\n",
      "[[Fraction(19661, 49152)]\n",
      " [Fraction(4915, 24576)]\n",
      " [Fraction(19661, 49152)]]\n",
      "[[ 0.4]\n",
      " [ 0.2]\n",
      " [ 0.4]]\n",
      "sum 1\n",
      "iter 28\n",
      "[[Fraction(19661, 49152)]\n",
      " [Fraction(19661, 98304)]\n",
      " [Fraction(13107, 32768)]]\n",
      "[[ 0.4]\n",
      " [ 0.2]\n",
      " [ 0.4]]\n",
      "sum 1\n",
      "iter 29\n",
      "[[Fraction(13107, 32768)]\n",
      " [Fraction(19661, 98304)]\n",
      " [Fraction(19661, 49152)]]\n",
      "[[ 0.4]\n",
      " [ 0.2]\n",
      " [ 0.4]]\n",
      "sum 1\n",
      "iter 30\n",
      "[[Fraction(19661, 49152)]\n",
      " [Fraction(13107, 65536)]\n",
      " [Fraction(78643, 196608)]]\n",
      "[[ 0.4]\n",
      " [ 0.2]\n",
      " [ 0.4]]\n",
      "sum 1\n",
      "iter 31\n",
      "[[Fraction(78643, 196608)]\n",
      " [Fraction(19661, 98304)]\n",
      " [Fraction(78643, 196608)]]\n",
      "[[ 0.4]\n",
      " [ 0.2]\n",
      " [ 0.4]]\n",
      "sum 1\n",
      "iter 32\n",
      "[[Fraction(78643, 196608)]\n",
      " [Fraction(78643, 393216)]\n",
      " [Fraction(52429, 131072)]]\n",
      "[[ 0.4]\n",
      " [ 0.2]\n",
      " [ 0.4]]\n",
      "sum 1\n",
      "iter 33\n",
      "[[Fraction(52429, 131072)]\n",
      " [Fraction(78643, 393216)]\n",
      " [Fraction(78643, 196608)]]\n",
      "[[ 0.4]\n",
      " [ 0.2]\n",
      " [ 0.4]]\n",
      "sum 1\n",
      "iter 34\n",
      "[[Fraction(78643, 196608)]\n",
      " [Fraction(52429, 262144)]\n",
      " [Fraction(314573, 786432)]]\n",
      "[[ 0.4]\n",
      " [ 0.2]\n",
      " [ 0.4]]\n",
      "sum 1\n",
      "iter 35\n",
      "[[Fraction(314573, 786432)]\n",
      " [Fraction(78643, 393216)]\n",
      " [Fraction(314573, 786432)]]\n",
      "[[ 0.4]\n",
      " [ 0.2]\n",
      " [ 0.4]]\n",
      "sum 1\n",
      "iter 36\n",
      "[[Fraction(314573, 786432)]\n",
      " [Fraction(314573, 1572864)]\n",
      " [Fraction(209715, 524288)]]\n",
      "[[ 0.4]\n",
      " [ 0.2]\n",
      " [ 0.4]]\n",
      "sum 1\n",
      "iter 37\n",
      "[[Fraction(209715, 524288)]\n",
      " [Fraction(314573, 1572864)]\n",
      " [Fraction(314573, 786432)]]\n",
      "[[ 0.4]\n",
      " [ 0.2]\n",
      " [ 0.4]]\n",
      "sum 1\n",
      "iter 38\n",
      "[[Fraction(314573, 786432)]\n",
      " [Fraction(209715, 1048576)]\n",
      " [Fraction(1258291, 3145728)]]\n",
      "[[ 0.4]\n",
      " [ 0.2]\n",
      " [ 0.4]]\n",
      "sum 1\n",
      "iter 39\n",
      "[[Fraction(1258291, 3145728)]\n",
      " [Fraction(314573, 1572864)]\n",
      " [Fraction(1258291, 3145728)]]\n",
      "[[ 0.4]\n",
      " [ 0.2]\n",
      " [ 0.4]]\n",
      "sum 1\n",
      "iter 40\n",
      "[[Fraction(1258291, 3145728)]\n",
      " [Fraction(1258291, 6291456)]\n",
      " [Fraction(838861, 2097152)]]\n",
      "[[ 0.4]\n",
      " [ 0.2]\n",
      " [ 0.4]]\n",
      "sum 1\n",
      "iter 41\n",
      "[[Fraction(838861, 2097152)]\n",
      " [Fraction(1258291, 6291456)]\n",
      " [Fraction(1258291, 3145728)]]\n",
      "[[ 0.4]\n",
      " [ 0.2]\n",
      " [ 0.4]]\n",
      "sum 1\n",
      "iter 42\n",
      "[[Fraction(1258291, 3145728)]\n",
      " [Fraction(838861, 4194304)]\n",
      " [Fraction(5033165, 12582912)]]\n",
      "[[ 0.4]\n",
      " [ 0.2]\n",
      " [ 0.4]]\n",
      "sum 1\n",
      "iter 43\n",
      "[[Fraction(5033165, 12582912)]\n",
      " [Fraction(1258291, 6291456)]\n",
      " [Fraction(5033165, 12582912)]]\n",
      "[[ 0.4]\n",
      " [ 0.2]\n",
      " [ 0.4]]\n",
      "sum 1\n",
      "iter 44\n",
      "[[Fraction(5033165, 12582912)]\n",
      " [Fraction(5033165, 25165824)]\n",
      " [Fraction(3355443, 8388608)]]\n",
      "[[ 0.4]\n",
      " [ 0.2]\n",
      " [ 0.4]]\n",
      "sum 1\n",
      "iter 45\n",
      "[[Fraction(3355443, 8388608)]\n",
      " [Fraction(5033165, 25165824)]\n",
      " [Fraction(5033165, 12582912)]]\n",
      "[[ 0.4]\n",
      " [ 0.2]\n",
      " [ 0.4]]\n",
      "sum 1\n",
      "iter 46\n",
      "[[Fraction(5033165, 12582912)]\n",
      " [Fraction(3355443, 16777216)]\n",
      " [Fraction(20132659, 50331648)]]\n",
      "[[ 0.4]\n",
      " [ 0.2]\n",
      " [ 0.4]]\n",
      "sum 1\n",
      "iter 47\n",
      "[[Fraction(20132659, 50331648)]\n",
      " [Fraction(5033165, 25165824)]\n",
      " [Fraction(20132659, 50331648)]]\n",
      "[[ 0.4]\n",
      " [ 0.2]\n",
      " [ 0.4]]\n",
      "sum 1\n",
      "iter 48\n",
      "[[Fraction(20132659, 50331648)]\n",
      " [Fraction(20132659, 100663296)]\n",
      " [Fraction(13421773, 33554432)]]\n",
      "[[ 0.4]\n",
      " [ 0.2]\n",
      " [ 0.4]]\n",
      "sum 1\n",
      "iter 49\n",
      "[[Fraction(13421773, 33554432)]\n",
      " [Fraction(20132659, 100663296)]\n",
      " [Fraction(20132659, 50331648)]]\n",
      "[[ 0.4]\n",
      " [ 0.2]\n",
      " [ 0.4]]\n",
      "sum 1\n",
      "iter 50\n",
      "[[Fraction(20132659, 50331648)]\n",
      " [Fraction(13421773, 67108864)]\n",
      " [Fraction(80530637, 201326592)]]\n",
      "[[ 0.4]\n",
      " [ 0.2]\n",
      " [ 0.4]]\n",
      "sum 1\n",
      "iter 51\n",
      "[[Fraction(80530637, 201326592)]\n",
      " [Fraction(20132659, 100663296)]\n",
      " [Fraction(80530637, 201326592)]]\n",
      "[[ 0.4]\n",
      " [ 0.2]\n",
      " [ 0.4]]\n",
      "sum 1\n",
      "iter 52\n",
      "[[Fraction(80530637, 201326592)]\n",
      " [Fraction(80530637, 402653184)]\n",
      " [Fraction(53687091, 134217728)]]\n",
      "[[ 0.4]\n",
      " [ 0.2]\n",
      " [ 0.4]]\n",
      "sum 1\n",
      "iter 53\n",
      "[[Fraction(53687091, 134217728)]\n",
      " [Fraction(80530637, 402653184)]\n",
      " [Fraction(80530637, 201326592)]]\n",
      "[[ 0.4]\n",
      " [ 0.2]\n",
      " [ 0.4]]\n",
      "sum 1\n",
      "iter 54\n",
      "[[Fraction(80530637, 201326592)]\n",
      " [Fraction(53687091, 268435456)]\n",
      " [Fraction(322122547, 805306368)]]\n",
      "[[ 0.4]\n",
      " [ 0.2]\n",
      " [ 0.4]]\n",
      "sum 1\n",
      "iter 55\n",
      "[[Fraction(322122547, 805306368)]\n",
      " [Fraction(80530637, 402653184)]\n",
      " [Fraction(322122547, 805306368)]]\n",
      "[[ 0.4]\n",
      " [ 0.2]\n",
      " [ 0.4]]\n",
      "sum 1\n",
      "iter 56\n",
      "[[Fraction(322122547, 805306368)]\n",
      " [Fraction(322122547, 1610612736)]\n",
      " [Fraction(214748365, 536870912)]]\n",
      "[[ 0.4]\n",
      " [ 0.2]\n",
      " [ 0.4]]\n",
      "sum 1\n",
      "iter 57\n",
      "[[Fraction(214748365, 536870912)]\n",
      " [Fraction(322122547, 1610612736)]\n",
      " [Fraction(322122547, 805306368)]]\n",
      "[[ 0.4]\n",
      " [ 0.2]\n",
      " [ 0.4]]\n",
      "sum 1\n",
      "iter 58\n",
      "[[Fraction(322122547, 805306368)]\n",
      " [Fraction(214748365, 1073741824)]\n",
      " [Fraction(1288490189, 3221225472)]]\n",
      "[[ 0.4]\n",
      " [ 0.2]\n",
      " [ 0.4]]\n",
      "sum 1\n",
      "iter 59\n",
      "[[Fraction(1288490189, 3221225472)]\n",
      " [Fraction(322122547, 1610612736)]\n",
      " [Fraction(1288490189, 3221225472)]]\n",
      "[[ 0.4]\n",
      " [ 0.2]\n",
      " [ 0.4]]\n",
      "sum 1\n",
      "iter 60\n",
      "[[Fraction(1288490189, 3221225472)]\n",
      " [Fraction(1288490189, 6442450944)]\n",
      " [Fraction(858993459, 2147483648)]]\n",
      "[[ 0.4]\n",
      " [ 0.2]\n",
      " [ 0.4]]\n",
      "sum 1\n",
      "iter 61\n",
      "[[Fraction(858993459, 2147483648)]\n",
      " [Fraction(1288490189, 6442450944)]\n",
      " [Fraction(1288490189, 3221225472)]]\n",
      "[[ 0.4]\n",
      " [ 0.2]\n",
      " [ 0.4]]\n",
      "sum 1\n",
      "iter 62\n",
      "[[Fraction(1288490189, 3221225472)]\n",
      " [Fraction(858993459, 4294967296)]\n",
      " [Fraction(5153960755, 12884901888)]]\n",
      "[[ 0.4]\n",
      " [ 0.2]\n",
      " [ 0.4]]\n",
      "sum 1\n",
      "iter 63\n",
      "[[Fraction(5153960755, 12884901888)]\n",
      " [Fraction(1288490189, 6442450944)]\n",
      " [Fraction(5153960755, 12884901888)]]\n",
      "[[ 0.4]\n",
      " [ 0.2]\n",
      " [ 0.4]]\n",
      "sum 1\n",
      "iter 64\n",
      "[[Fraction(5153960755, 12884901888)]\n",
      " [Fraction(5153960755, 25769803776)]\n",
      " [Fraction(3435973837, 8589934592)]]\n",
      "[[ 0.4]\n",
      " [ 0.2]\n",
      " [ 0.4]]\n",
      "sum 1\n",
      "iter 65\n",
      "[[Fraction(3435973837, 8589934592)]\n",
      " [Fraction(5153960755, 25769803776)]\n",
      " [Fraction(5153960755, 12884901888)]]\n",
      "[[ 0.4]\n",
      " [ 0.2]\n",
      " [ 0.4]]\n",
      "sum 1\n",
      "iter 66\n",
      "[[Fraction(5153960755, 12884901888)]\n",
      " [Fraction(3435973837, 17179869184)]\n",
      " [Fraction(20615843021, 51539607552)]]\n",
      "[[ 0.4]\n",
      " [ 0.2]\n",
      " [ 0.4]]\n",
      "sum 1\n",
      "iter 67\n",
      "[[Fraction(20615843021, 51539607552)]\n",
      " [Fraction(5153960755, 25769803776)]\n",
      " [Fraction(20615843021, 51539607552)]]\n",
      "[[ 0.4]\n",
      " [ 0.2]\n",
      " [ 0.4]]\n",
      "sum 1\n",
      "iter 68\n",
      "[[Fraction(20615843021, 51539607552)]\n",
      " [Fraction(20615843021, 103079215104)]\n",
      " [Fraction(13743895347, 34359738368)]]\n",
      "[[ 0.4]\n",
      " [ 0.2]\n",
      " [ 0.4]]\n",
      "sum 1\n",
      "iter 69\n",
      "[[Fraction(13743895347, 34359738368)]\n",
      " [Fraction(20615843021, 103079215104)]\n",
      " [Fraction(20615843021, 51539607552)]]\n",
      "[[ 0.4]\n",
      " [ 0.2]\n",
      " [ 0.4]]\n",
      "sum 1\n",
      "iter 70\n",
      "[[Fraction(20615843021, 51539607552)]\n",
      " [Fraction(13743895347, 68719476736)]\n",
      " [Fraction(82463372083, 206158430208)]]\n",
      "[[ 0.4]\n",
      " [ 0.2]\n",
      " [ 0.4]]\n",
      "sum 1\n",
      "iter 71\n",
      "[[Fraction(82463372083, 206158430208)]\n",
      " [Fraction(20615843021, 103079215104)]\n",
      " [Fraction(82463372083, 206158430208)]]\n",
      "[[ 0.4]\n",
      " [ 0.2]\n",
      " [ 0.4]]\n",
      "sum 1\n",
      "iter 72\n",
      "[[Fraction(82463372083, 206158430208)]\n",
      " [Fraction(82463372083, 412316860416)]\n",
      " [Fraction(54975581389, 137438953472)]]\n",
      "[[ 0.4]\n",
      " [ 0.2]\n",
      " [ 0.4]]\n",
      "sum 1\n",
      "iter 73\n",
      "[[Fraction(54975581389, 137438953472)]\n",
      " [Fraction(82463372083, 412316860416)]\n",
      " [Fraction(82463372083, 206158430208)]]\n",
      "[[ 0.4]\n",
      " [ 0.2]\n",
      " [ 0.4]]\n",
      "sum 1\n",
      "iter 74\n",
      "[[Fraction(82463372083, 206158430208)]\n",
      " [Fraction(54975581389, 274877906944)]\n",
      " [Fraction(329853488333, 824633720832)]]\n",
      "[[ 0.4]\n",
      " [ 0.2]\n",
      " [ 0.4]]\n",
      "sum 1\n",
      "iter 75\n",
      "[[Fraction(329853488333, 824633720832)]\n",
      " [Fraction(82463372083, 412316860416)]\n",
      " [Fraction(329853488333, 824633720832)]]\n",
      "[[ 0.4]\n",
      " [ 0.2]\n",
      " [ 0.4]]\n",
      "sum 1\n",
      "iter 76\n",
      "[[Fraction(329853488333, 824633720832)]\n",
      " [Fraction(329853488333, 1649267441664)]\n",
      " [Fraction(219902325555, 549755813888)]]\n",
      "[[ 0.4]\n",
      " [ 0.2]\n",
      " [ 0.4]]\n",
      "sum 1\n",
      "iter 77\n",
      "[[Fraction(219902325555, 549755813888)]\n",
      " [Fraction(329853488333, 1649267441664)]\n",
      " [Fraction(329853488333, 824633720832)]]\n",
      "[[ 0.4]\n",
      " [ 0.2]\n",
      " [ 0.4]]\n",
      "sum 1\n",
      "iter 78\n",
      "[[Fraction(329853488333, 824633720832)]\n",
      " [Fraction(219902325555, 1099511627776)]\n",
      " [Fraction(1319413953331, 3298534883328)]]\n",
      "[[ 0.4]\n",
      " [ 0.2]\n",
      " [ 0.4]]\n",
      "sum 1\n",
      "iter 79\n",
      "[[Fraction(1319413953331, 3298534883328)]\n",
      " [Fraction(329853488333, 1649267441664)]\n",
      " [Fraction(1319413953331, 3298534883328)]]\n",
      "[[ 0.4]\n",
      " [ 0.2]\n",
      " [ 0.4]]\n",
      "sum 1\n",
      "iter 80\n",
      "[[Fraction(1319413953331, 3298534883328)]\n",
      " [Fraction(1319413953331, 6597069766656)]\n",
      " [Fraction(879609302221, 2199023255552)]]\n",
      "[[ 0.4]\n",
      " [ 0.2]\n",
      " [ 0.4]]\n",
      "sum 1\n",
      "iter 81\n",
      "[[Fraction(879609302221, 2199023255552)]\n",
      " [Fraction(1319413953331, 6597069766656)]\n",
      " [Fraction(1319413953331, 3298534883328)]]\n",
      "[[ 0.4]\n",
      " [ 0.2]\n",
      " [ 0.4]]\n",
      "sum 1\n",
      "iter 82\n",
      "[[Fraction(1319413953331, 3298534883328)]\n",
      " [Fraction(879609302221, 4398046511104)]\n",
      " [Fraction(5277655813325, 13194139533312)]]\n",
      "[[ 0.4]\n",
      " [ 0.2]\n",
      " [ 0.4]]\n",
      "sum 1\n",
      "iter 83\n",
      "[[Fraction(5277655813325, 13194139533312)]\n",
      " [Fraction(1319413953331, 6597069766656)]\n",
      " [Fraction(5277655813325, 13194139533312)]]\n",
      "[[ 0.4]\n",
      " [ 0.2]\n",
      " [ 0.4]]\n",
      "sum 1\n",
      "iter 84\n",
      "[[Fraction(5277655813325, 13194139533312)]\n",
      " [Fraction(5277655813325, 26388279066624)]\n",
      " [Fraction(3518437208883, 8796093022208)]]\n",
      "[[ 0.4]\n",
      " [ 0.2]\n",
      " [ 0.4]]\n",
      "sum 1\n",
      "iter 85\n",
      "[[Fraction(3518437208883, 8796093022208)]\n",
      " [Fraction(5277655813325, 26388279066624)]\n",
      " [Fraction(5277655813325, 13194139533312)]]\n",
      "[[ 0.4]\n",
      " [ 0.2]\n",
      " [ 0.4]]\n",
      "sum 1\n",
      "iter 86\n",
      "[[Fraction(5277655813325, 13194139533312)]\n",
      " [Fraction(3518437208883, 17592186044416)]\n",
      " [Fraction(21110623253299, 52776558133248)]]\n",
      "[[ 0.4]\n",
      " [ 0.2]\n",
      " [ 0.4]]\n",
      "sum 1\n",
      "iter 87\n",
      "[[Fraction(21110623253299, 52776558133248)]\n",
      " [Fraction(5277655813325, 26388279066624)]\n",
      " [Fraction(21110623253299, 52776558133248)]]\n",
      "[[ 0.4]\n",
      " [ 0.2]\n",
      " [ 0.4]]\n",
      "sum 1\n",
      "iter 88\n",
      "[[Fraction(21110623253299, 52776558133248)]\n",
      " [Fraction(21110623253299, 105553116266496)]\n",
      " [Fraction(14073748835533, 35184372088832)]]\n",
      "[[ 0.4]\n",
      " [ 0.2]\n",
      " [ 0.4]]\n",
      "sum 1\n",
      "iter 89\n",
      "[[Fraction(14073748835533, 35184372088832)]\n",
      " [Fraction(21110623253299, 105553116266496)]\n",
      " [Fraction(21110623253299, 52776558133248)]]\n",
      "[[ 0.4]\n",
      " [ 0.2]\n",
      " [ 0.4]]\n",
      "sum 1\n",
      "iter 90\n",
      "[[Fraction(21110623253299, 52776558133248)]\n",
      " [Fraction(14073748835533, 70368744177664)]\n",
      " [Fraction(84442493013197, 211106232532992)]]\n",
      "[[ 0.4]\n",
      " [ 0.2]\n",
      " [ 0.4]]\n",
      "sum 1\n",
      "iter 91\n",
      "[[Fraction(84442493013197, 211106232532992)]\n",
      " [Fraction(21110623253299, 105553116266496)]\n",
      " [Fraction(84442493013197, 211106232532992)]]\n",
      "[[ 0.4]\n",
      " [ 0.2]\n",
      " [ 0.4]]\n",
      "sum 1\n",
      "iter 92\n",
      "[[Fraction(84442493013197, 211106232532992)]\n",
      " [Fraction(84442493013197, 422212465065984)]\n",
      " [Fraction(56294995342131, 140737488355328)]]\n",
      "[[ 0.4]\n",
      " [ 0.2]\n",
      " [ 0.4]]\n",
      "sum 1\n",
      "iter 93\n",
      "[[Fraction(56294995342131, 140737488355328)]\n",
      " [Fraction(84442493013197, 422212465065984)]\n",
      " [Fraction(84442493013197, 211106232532992)]]\n",
      "[[ 0.4]\n",
      " [ 0.2]\n",
      " [ 0.4]]\n",
      "sum 1\n",
      "iter 94\n",
      "[[Fraction(84442493013197, 211106232532992)]\n",
      " [Fraction(56294995342131, 281474976710656)]\n",
      " [Fraction(337769972052787, 844424930131968)]]\n",
      "[[ 0.4]\n",
      " [ 0.2]\n",
      " [ 0.4]]\n",
      "sum 1\n",
      "iter 95\n",
      "[[Fraction(337769972052787, 844424930131968)]\n",
      " [Fraction(84442493013197, 422212465065984)]\n",
      " [Fraction(337769972052787, 844424930131968)]]\n",
      "[[ 0.4]\n",
      " [ 0.2]\n",
      " [ 0.4]]\n",
      "sum 1\n",
      "iter 96\n",
      "[[Fraction(337769972052787, 844424930131968)]\n",
      " [Fraction(337769972052787, 1688849860263936)]\n",
      " [Fraction(225179981368525, 562949953421312)]]\n",
      "[[ 0.4]\n",
      " [ 0.2]\n",
      " [ 0.4]]\n",
      "sum 1\n",
      "iter 97\n",
      "[[Fraction(225179981368525, 562949953421312)]\n",
      " [Fraction(337769972052787, 1688849860263936)]\n",
      " [Fraction(337769972052787, 844424930131968)]]\n",
      "[[ 0.4]\n",
      " [ 0.2]\n",
      " [ 0.4]]\n",
      "sum 1\n",
      "iter 98\n",
      "[[Fraction(337769972052787, 844424930131968)]\n",
      " [Fraction(225179981368525, 1125899906842624)]\n",
      " [Fraction(1351079888211149, 3377699720527872)]]\n",
      "[[ 0.4]\n",
      " [ 0.2]\n",
      " [ 0.4]]\n",
      "sum 1\n",
      "iter 99\n",
      "[[Fraction(1351079888211149, 3377699720527872)]\n",
      " [Fraction(337769972052787, 1688849860263936)]\n",
      " [Fraction(1351079888211149, 3377699720527872)]]\n",
      "[[ 0.4]\n",
      " [ 0.2]\n",
      " [ 0.4]]\n",
      "sum 1\n"
     ]
    }
   ],
   "source": [
    "# no taxation HW-Example 4\n",
    "defaultProbability = dp#Fraction(1,1)\n",
    "\n",
    "# reset r\n",
    "r = np.matrix([defaultProbability, defaultProbability, defaultProbability])\n",
    "r = np.transpose(r)\n",
    "\n",
    "for i in range(0,100):\n",
    "    print \"iter\",i\n",
    "    r = M*r\n",
    "    print r\n",
    "    print np.round((r).astype(np.float), decimals=3)\n",
    "    print \"sum\", np.sum(r)"
   ]
  },
  {
   "cell_type": "code",
   "execution_count": 24,
   "metadata": {
    "collapsed": false
   },
   "outputs": [
    {
     "data": {
      "text/plain": [
       "'\\n ncorrect: Hint: first set up the rules that give you the PageRank estimates a, b, and c for one iteration\\n in terms of the PageRank estimates at the previous iteration. \\n Then, starting with the 0th iteration, where a=b=c=1, apply the three rules to get the estimates at iterations 1,\\n then 2, then 3, then 4, and finally 5.\\n \\n Hint: first set up the rules that give you the PageRank estimates a, b, and c for one iteration in terms of the PageRank estimates at the previous iteration. \\n In the limit, these estimates are the same for each of the three nodes, so you may equate left and right sides of each rule. \\n That allows you to solve for the ratios of a, b, and c. Then remember that their sum must be 3.\\n'"
      ]
     },
     "execution_count": 24,
     "metadata": {},
     "output_type": "execute_result"
    }
   ],
   "source": [
    "'''\n",
    " ncorrect: Hint: first set up the rules that give you the PageRank estimates a, b, and c for one iteration\n",
    " in terms of the PageRank estimates at the previous iteration. \n",
    " Then, starting with the 0th iteration, where a=b=c=1, apply the three rules to get the estimates at iterations 1,\n",
    " then 2, then 3, then 4, and finally 5.\n",
    " \n",
    " Hint: first set up the rules that give you the PageRank estimates a, b, and c for one iteration in terms of the PageRank estimates at the previous iteration. \n",
    " In the limit, these estimates are the same for each of the three nodes, so you may equate left and right sides of each rule. \n",
    " That allows you to solve for the ratios of a, b, and c. Then remember that their sum must be 3.\n",
    "'''"
   ]
  },
  {
   "cell_type": "markdown",
   "metadata": {},
   "source": [
    "# Locality-Sensitive Hashing Question 2 #"
   ]
  },
  {
   "cell_type": "code",
   "execution_count": 81,
   "metadata": {
    "collapsed": false
   },
   "outputs": [
    {
     "name": "stdout",
     "output_type": "stream",
     "text": [
      "r: 1 , b: 24 , p 995.277633577 995.277633517 5.96046447754e-08 , tresh: 0\n",
      "r: 2 , b: 12 , p 387.321919022 387.29024267 0.0316763520241 , tresh: 1\n",
      "r: 3 , b: 8 , p 62.5799960235 62.2363871077 0.343608915806 , tresh: 1\n",
      "r: 4 , b: 6 , p 10.2406159787 9.56168182176 0.678934156895 , tresh: 1\n",
      "r: 6 , b: 4 , p 1.19492506961 0.255975425048 0.938949644566 , tresh: 1\n",
      "r: 8 , b: 3 , p 0.996006947102 0.00767998033913 0.988326966763 , tresh: 1\n",
      "r: 12 , b: 2 , p 0.999519970355 8.19199996727e-06 0.999511778355 , tresh: 1\n",
      "r: 24 , b: 1 , p 0.999999940395 0.0 0.999999940395 , tresh: 1\n"
     ]
    },
    {
     "data": {
      "text/plain": [
       "(8, 0.9960069471016686)"
      ]
     },
     "execution_count": 81,
     "metadata": {},
     "output_type": "execute_result"
    }
   ],
   "source": [
    "# HW 2\n",
    "# Question 2\n",
    "\n",
    "rows = [1, 2, 3, 4, 6, 8, 12, 24]\n",
    "\n",
    "similarity = 0.2\n",
    "similarity2 = 0.5\n",
    "\n",
    "minimum = 100\n",
    "compDict = {}\n",
    "for row in rows:\n",
    "    #print \"rows:\", row\n",
    "    bands = 24/row\n",
    "    #print bands\n",
    "    \n",
    "    false_p = 1000*(1-((1-similarity**row)**bands))\n",
    "    false_n = (1-similarity2**row)**bands\n",
    "    \n",
    "    summ = false_n + false_p\n",
    "    compDict[row] = summ\n",
    "    print \"r:\", row, \", b:\", bands, \", p\", summ, false_p, false_n, \", tresh:\", (1/bands)**(1/row)\n",
    "\n",
    "# print minimum\n",
    "min(compDict.items(), key=lambda x: x[1]) "
   ]
  },
  {
   "cell_type": "code",
   "execution_count": 26,
   "metadata": {
    "collapsed": false
   },
   "outputs": [
    {
     "data": {
      "text/plain": [
       "'\\nr: 1 , b: 24 , probability 0.999999940395\\nr: 2 , b: 12 , probability 0.968323647976\\nr: 3 , b: 8 , probability 0.656391084194\\nr: 4 , b: 6 , probability 0.321065843105\\nr: 6 , b: 4 , probability 0.0610503554344\\nr: 8 , b: 3 , probability 0.0116730332375\\nr: 12 , b: 2 , probability 0.000488221645355\\nr: 24 , b: 1 , probability 5.96046447754e-08\\n\\nIncorrect: Hint: the probability that 20%-similar columns become a false positive is 1 - ((1 - .2r)b).\\n'"
      ]
     },
     "execution_count": 26,
     "metadata": {},
     "output_type": "execute_result"
    }
   ],
   "source": [
    "'''\n",
    "r: 1 , b: 24 , probability 0.999999940395\n",
    "r: 2 , b: 12 , probability 0.968323647976\n",
    "r: 3 , b: 8 , probability 0.656391084194\n",
    "r: 4 , b: 6 , probability 0.321065843105\n",
    "r: 6 , b: 4 , probability 0.0610503554344\n",
    "r: 8 , b: 3 , probability 0.0116730332375\n",
    "r: 12 , b: 2 , probability 0.000488221645355\n",
    "r: 24 , b: 1 , probability 5.96046447754e-08\n",
    "\n",
    "Incorrect: Hint: the probability that 20%-similar columns become a false positive is 1 - ((1 - .2r)b).\n",
    "'''"
   ]
  },
  {
   "cell_type": "code",
   "execution_count": 18,
   "metadata": {
    "collapsed": false
   },
   "outputs": [],
   "source": [
    "vec = {}\n",
    "vec[1] = [1,1,1,1,0,0,0,0,0,0]\n",
    "vec[2] = [0,1,0,0,1,0,0,1,0,1]\n",
    "vec[3] = [0,0,0,0,0,1,1,1,1,0]\n",
    "vec[4] = [0,1,1,1,1,1,1,1,1,1]\n",
    "vec[5] = [1,0,1,1,1,1,1,1,1,1]"
   ]
  },
  {
   "cell_type": "code",
   "execution_count": 19,
   "metadata": {
    "collapsed": false
   },
   "outputs": [
    {
     "name": "stdout",
     "output_type": "stream",
     "text": [
      "vector:  1\n",
      "6\n",
      "8\n",
      "7\n",
      "7\n",
      "vector:  2\n",
      "6\n",
      "5\n",
      "7\n",
      "vector:  3\n",
      "5\n",
      "5\n",
      "vector:  4\n",
      "2\n",
      "vector:  5\n"
     ]
    }
   ],
   "source": [
    "####\n",
    "# Manhattan Distance\n",
    "####\n",
    "\n",
    "from array import *\n",
    "\n",
    "for key in vec:\n",
    "    print \"vector: \", key \n",
    "    for x  in range(key+1, len(vec)+1):\n",
    "        result = np.array(vec[key]) - np.array(vec[x])\n",
    "        # print Manhattan Distance\n",
    "        print np.sum(result != 0) "
   ]
  },
  {
   "cell_type": "code",
   "execution_count": 17,
   "metadata": {
    "collapsed": false
   },
   "outputs": [
    {
     "name": "stdout",
     "output_type": "stream",
     "text": [
      "vector:  1\n",
      "\t0.857 : 3859584880656515/4503599627370496\n",
      "\t1.0 : 1\n",
      "\t0.7 : 3152519739159347/4503599627370496\n",
      "\t0.7 : 3152519739159347/4503599627370496\n",
      "vector:  2\n",
      "\t0.857 : 3859584880656515/4503599627370496\n",
      "\t0.556 : 626000348204499/1125899906842624\n",
      "\t0.7 : 3152519739159347/4503599627370496\n",
      "vector:  3\n",
      "\t0.556 : 626000348204499/1125899906842624\n",
      "\t0.556 : 626000348204499/1125899906842624\n",
      "vector:  4\n",
      "\t0.2 : 900719925474099/4503599627370496\n",
      "vector:  5\n"
     ]
    }
   ],
   "source": [
    "####\n",
    "# Jaccard Distance\n",
    "####\n",
    "from __future__ import division\n",
    "\n",
    "\n",
    "for key in vec:\n",
    "    print \"vector: \", key \n",
    "    for x  in range(key+1, len(vec)+1):\n",
    "        result = np.array(vec[key]) - np.array(vec[x])\n",
    "        X = np.sum(np.logical_and(np.array(vec[key]), np.array(vec[x])))\n",
    "        Y = np.sum(np.logical_xor(np.array(vec[key]), np.array(vec[x])))\n",
    "        # Jaccard Distance\n",
    "        JD = 1 - np.round(X/(X+Y), decimals=3)\n",
    "        # print Jaccard Distance\n",
    "        print \"\\t\", JD, \":\", Fraction(JD)\n"
   ]
  },
  {
   "cell_type": "code",
   "execution_count": 14,
   "metadata": {
    "collapsed": false
   },
   "outputs": [
    {
     "name": "stdout",
     "output_type": "stream",
     "text": [
      "cos(u,v): 0.9496\n",
      "cos(u,w): 0.0174\n",
      "cos(v,w): 0.0\n"
     ]
    }
   ],
   "source": [
    "### \n",
    "# Cosine Similarity Measure\n",
    "###\n",
    "from numpy import linalg as LA\n",
    "\n",
    "u = [1, 0.25, 0, 0, 0.5, 0] \n",
    "v = [0.75, 0, 0, 0.2, 0.4, 0] \n",
    "w = [0, 0.1, 0.75, 0, 0, 1]\n",
    "'''\n",
    "x = [1,2,-1]\n",
    "y = [2,1,1]\n",
    "\n",
    "print \"dot:\", np.dot(x,y)\n",
    "print \"L2:\", LA.norm(x,2)\n",
    "'''\n",
    "\n",
    "\n",
    "def cosSim(a,b):\n",
    "    return np.dot(a,b)/(LA.norm(a,2)*LA.norm(b,2))\n",
    "\n",
    "\n",
    "print \"cos(u,v):\", np.round(cosSim(u,v), decimals=4)\n",
    "print \"cos(u,w):\", np.round(cosSim(u,w), decimals=4)\n",
    "print \"cos(v,w):\", np.round(cosSim(v,w), decimals=4)"
   ]
  },
  {
   "cell_type": "code",
   "execution_count": 31,
   "metadata": {
    "collapsed": false
   },
   "outputs": [
    {
     "data": {
      "text/plain": [
       "'\\nTo compute the cosine distance, take the dot product divided by the product of the lengths of the two vectors. \\nThe dot product is the sum of the products of the corresponding components. \\nThe length of a vector is the square root of the sum of the squares of its components.\\n'"
      ]
     },
     "execution_count": 31,
     "metadata": {},
     "output_type": "execute_result"
    }
   ],
   "source": [
    "'''\n",
    "To compute the cosine distance, take the dot product divided by the product of the lengths of the two vectors. \n",
    "The dot product is the sum of the products of the corresponding components. \n",
    "The length of a vector is the square root of the sum of the squares of its components.\n",
    "'''"
   ]
  },
  {
   "cell_type": "code",
   "execution_count": 32,
   "metadata": {
    "collapsed": false
   },
   "outputs": [
    {
     "data": {
      "text/plain": [
       "'\\nYou need to calculate the edit distance for each of the six pairs of words. \\nA useful rule is that this distance is the sum of the lengths of the words,\\nminus twice the length of the LCS (longest common subsequence).\\nThe LCS of two words is any longest sequence of characters that can be formed by \\nstriking out characters from each of the words. \\nFor example, the LCS of \"rotate\" and \"aorta\" is of length 3; both \"rta\" and \"ota\" are LCS\\'s.\\nNote, for instance, that \"ota\" can be made from \"rotate\" \\nby striking out positions 1, 5, and 6, and \"ota\" can be made from \"aorta\" by striking out positions 1 and 3. \\nThus, the edit distance between \"rotate\" and \"aorta\" is |rotate| + |aorta| - 2*|ota| = 6 + 5 -2*3 = 5. \\nOne way to perform the five edits is to delete positions 1, 5, and 6 from \"rotate\", \\nleaving \"ota\", and then insert \"a\" at the beginning and \"r\" before \"t\".\\n'"
      ]
     },
     "execution_count": 32,
     "metadata": {},
     "output_type": "execute_result"
    }
   ],
   "source": [
    "### \n",
    "# EDIT DISTANCE\n",
    "###\n",
    "'''\n",
    "You need to calculate the edit distance for each of the six pairs of words. \n",
    "A useful rule is that this distance is the sum of the lengths of the words,\n",
    "minus twice the length of the LCS (longest common subsequence).\n",
    "The LCS of two words is any longest sequence of characters that can be formed by \n",
    "striking out characters from each of the words. \n",
    "For example, the LCS of \"rotate\" and \"aorta\" is of length 3; both \"rta\" and \"ota\" are LCS's.\n",
    "Note, for instance, that \"ota\" can be made from \"rotate\" \n",
    "by striking out positions 1, 5, and 6, and \"ota\" can be made from \"aorta\" by striking out positions 1 and 3. \n",
    "Thus, the edit distance between \"rotate\" and \"aorta\" is |rotate| + |aorta| - 2*|ota| = 6 + 5 -2*3 = 5. \n",
    "One way to perform the five edits is to delete positions 1, 5, and 6 from \"rotate\", \n",
    "leaving \"ota\", and then insert \"a\" at the beginning and \"r\" before \"t\".\n",
    "'''"
   ]
  },
  {
   "cell_type": "code",
   "execution_count": 33,
   "metadata": {
    "collapsed": false
   },
   "outputs": [
    {
     "name": "stdout",
     "output_type": "stream",
     "text": [
      "1800120000\n",
      "80000000000120000\n"
     ]
    }
   ],
   "source": [
    "#FREQUENT ITEMSETS  (4 points possible)\n",
    "#Question 1: Suppose we have transactions that satisfy the following assumptions:\n",
    "'''\n",
    "Here is a hint. In all possible choices, \n",
    "the values of N and M are such that you can ignore the space needed for the first pass,\n",
    "and you can ignore the space needed to list the frequent items on the second pass.\n",
    "'''\n",
    "\n",
    "N = 30000\n",
    "M = 200000000\n",
    "print 2*(N**2) + N*4\n",
    "print 2*(M**2) + N*4\n"
   ]
  },
  {
   "cell_type": "code",
   "execution_count": 34,
   "metadata": {
    "collapsed": false
   },
   "outputs": [
    {
     "data": {
      "text/plain": [
       "1.6"
      ]
     },
     "execution_count": 34,
     "metadata": {},
     "output_type": "execute_result"
    }
   ],
   "source": [
    "###\n",
    "# PCY\n",
    "###\n",
    "'''\n",
    "Incorrect: Here are some hints:\n",
    "The number of infrequent pairs per bucket on the first pass will be about P divided by the number of buckets.\n",
    "A pair can only be a candidate pair for the second pass if it is in a frequent bucket. \n",
    "For the values of P and S found in this question, \n",
    "that can only occur if the bucket contains one of the 1,000,000 frequent pairs.\n",
    "You must use a hash table to count candidate pairs on the second pass of PCY. \n",
    "This hash table takes 12 bytes per candidate pair.\n",
    "'''\n",
    "S = 1000000000\n",
    "P = 400000000\n",
    "P/(S/4)"
   ]
  },
  {
   "cell_type": "code",
   "execution_count": 35,
   "metadata": {
    "collapsed": false
   },
   "outputs": [],
   "source": [
    "## graph hops (Data Structures)\n",
    "\n",
    "M = np.matrix([[0,1,1,0],\n",
    "    [0,0,0,1],\n",
    "    [0,1,0,1],\n",
    "    [0,0,0,0]])"
   ]
  },
  {
   "cell_type": "code",
   "execution_count": 36,
   "metadata": {
    "collapsed": false
   },
   "outputs": [
    {
     "data": {
      "text/plain": [
       "matrix([[0, 1, 1, 0],\n",
       "        [0, 0, 0, 1],\n",
       "        [0, 1, 0, 1],\n",
       "        [0, 0, 0, 0]])"
      ]
     },
     "execution_count": 36,
     "metadata": {},
     "output_type": "execute_result"
    }
   ],
   "source": [
    "M"
   ]
  },
  {
   "cell_type": "code",
   "execution_count": 37,
   "metadata": {
    "collapsed": false
   },
   "outputs": [],
   "source": [
    "def plot_matrix(matrix):\n",
    "    fig = plt.figure()\n",
    "    ax = fig.add_subplot(111)\n",
    "    cax = ax.matshow(matrix, interpolation='nearest')\n",
    "    fig.colorbar(cax)"
   ]
  },
  {
   "cell_type": "code",
   "execution_count": 38,
   "metadata": {
    "collapsed": false
   },
   "outputs": [
    {
     "data": {
      "image/png": "[encoded data removed]",
      "text/plain": [
       "<matplotlib.figure.Figure at 0x7f5ece2b3450>"
      ]
     },
     "metadata": {},
     "output_type": "display_data"
    }
   ],
   "source": [
    "plot_matrix(M)"
   ]
  },
  {
   "cell_type": "code",
   "execution_count": 39,
   "metadata": {
    "collapsed": false
   },
   "outputs": [
    {
     "data": {
      "text/plain": [
       "matrix([[0, 0, 0, 1],\n",
       "        [0, 0, 0, 0],\n",
       "        [0, 0, 0, 0],\n",
       "        [0, 0, 0, 0]])"
      ]
     },
     "execution_count": 39,
     "metadata": {},
     "output_type": "execute_result"
    }
   ],
   "source": [
    "M*M*M"
   ]
  },
  {
   "cell_type": "code",
   "execution_count": 40,
   "metadata": {
    "collapsed": false
   },
   "outputs": [
    {
     "data": {
      "image/png": "[encoded data removed]",
      "text/plain": [
       "<matplotlib.figure.Figure at 0x7f5ecdf0c690>"
      ]
     },
     "metadata": {},
     "output_type": "display_data"
    }
   ],
   "source": [
    "plot_matrix(M*M*M)"
   ]
  },
  {
   "cell_type": "code",
   "execution_count": 41,
   "metadata": {
    "collapsed": true
   },
   "outputs": [],
   "source": [
    "M = np.matrix([[0,1,1,0],\n",
    "    [0,0,0,1],\n",
    "    [0,1,0,1],\n",
    "    [0,0,0,0]])"
   ]
  },
  {
   "cell_type": "code",
   "execution_count": 291,
   "metadata": {
    "collapsed": true
   },
   "outputs": [],
   "source": [
    "transaction_df = pd.DataFrame({'Beer' : [1,0,1,0,1,0,0,1],\n",
    "                               'Coke' : [0,1,1,0,1,0,0,1],\n",
    "                               'Pepsi' : [1,0,0,1,0,0,1,0],\n",
    "                               'Milk' : [0,1,0,1,1,1,0,1],\n",
    "                               'Juice' : [0,0,1,0,0,1,1,1]})"
   ]
  },
  {
   "cell_type": "code",
   "execution_count": 292,
   "metadata": {
    "collapsed": false
   },
   "outputs": [
    {
     "data": {
      "text/html": [
       "<div>\n",
       "<table border=\"1\" class=\"dataframe\">\n",
       "  <thead>\n",
       "    <tr style=\"text-align: right;\">\n",
       "      <th></th>\n",
       "      <th>Beer</th>\n",
       "      <th>Coke</th>\n",
       "      <th>Juice</th>\n",
       "      <th>Milk</th>\n",
       "      <th>Pepsi</th>\n",
       "    </tr>\n",
       "  </thead>\n",
       "  <tbody>\n",
       "    <tr>\n",
       "      <th>0</th>\n",
       "      <td>1</td>\n",
       "      <td>0</td>\n",
       "      <td>0</td>\n",
       "      <td>0</td>\n",
       "      <td>1</td>\n",
       "    </tr>\n",
       "    <tr>\n",
       "      <th>1</th>\n",
       "      <td>0</td>\n",
       "      <td>1</td>\n",
       "      <td>0</td>\n",
       "      <td>1</td>\n",
       "      <td>0</td>\n",
       "    </tr>\n",
       "    <tr>\n",
       "      <th>2</th>\n",
       "      <td>1</td>\n",
       "      <td>1</td>\n",
       "      <td>1</td>\n",
       "      <td>0</td>\n",
       "      <td>0</td>\n",
       "    </tr>\n",
       "    <tr>\n",
       "      <th>3</th>\n",
       "      <td>0</td>\n",
       "      <td>0</td>\n",
       "      <td>0</td>\n",
       "      <td>1</td>\n",
       "      <td>1</td>\n",
       "    </tr>\n",
       "    <tr>\n",
       "      <th>4</th>\n",
       "      <td>1</td>\n",
       "      <td>1</td>\n",
       "      <td>0</td>\n",
       "      <td>1</td>\n",
       "      <td>0</td>\n",
       "    </tr>\n",
       "    <tr>\n",
       "      <th>5</th>\n",
       "      <td>0</td>\n",
       "      <td>0</td>\n",
       "      <td>1</td>\n",
       "      <td>1</td>\n",
       "      <td>0</td>\n",
       "    </tr>\n",
       "    <tr>\n",
       "      <th>6</th>\n",
       "      <td>0</td>\n",
       "      <td>0</td>\n",
       "      <td>1</td>\n",
       "      <td>0</td>\n",
       "      <td>1</td>\n",
       "    </tr>\n",
       "    <tr>\n",
       "      <th>7</th>\n",
       "      <td>1</td>\n",
       "      <td>1</td>\n",
       "      <td>1</td>\n",
       "      <td>1</td>\n",
       "      <td>0</td>\n",
       "    </tr>\n",
       "  </tbody>\n",
       "</table>\n",
       "</div>"
      ],
      "text/plain": [
       "   Beer  Coke  Juice  Milk  Pepsi\n",
       "0     1     0      0     0      1\n",
       "1     0     1      0     1      0\n",
       "2     1     1      1     0      0\n",
       "3     0     0      0     1      1\n",
       "4     1     1      0     1      0\n",
       "5     0     0      1     1      0\n",
       "6     0     0      1     0      1\n",
       "7     1     1      1     1      0"
      ]
     },
     "execution_count": 292,
     "metadata": {},
     "output_type": "execute_result"
    }
   ],
   "source": [
    "transaction_df"
   ]
  },
  {
   "cell_type": "code",
   "execution_count": 293,
   "metadata": {
    "collapsed": false
   },
   "outputs": [
    {
     "data": {
      "text/plain": [
       "<matplotlib.axes._subplots.AxesSubplot at 0x7f5ec68d1510>"
      ]
     },
     "execution_count": 293,
     "metadata": {},
     "output_type": "execute_result"
    },
    {
     "data": {
      "image/png": "[encoded data removed]",
      "text/plain": [
       "<matplotlib.figure.Figure at 0x7f5ec651d2d0>"
      ]
     },
     "metadata": {},
     "output_type": "display_data"
    }
   ],
   "source": [
    "# calculate occurrence for every product in all transactions\n",
    "product_support_dict = {}\n",
    "for column in transaction_df.columns:\n",
    "    product_support_dict[column] = sum(transaction_df[column]>0)\n",
    "    \n",
    "# visualise support\n",
    "pd.Series(product_support_dict).plot(kind=\"bar\")"
   ]
  },
  {
   "cell_type": "code",
   "execution_count": 294,
   "metadata": {
    "collapsed": false
   },
   "outputs": [],
   "source": [
    "transaction_matrix = transaction_df.as_matrix()"
   ]
  },
  {
   "cell_type": "code",
   "execution_count": 295,
   "metadata": {
    "collapsed": false
   },
   "outputs": [
    {
     "data": {
      "text/plain": [
       "array([[1, 0, 0, 0, 1],\n",
       "       [0, 1, 0, 1, 0],\n",
       "       [1, 1, 1, 0, 0],\n",
       "       [0, 0, 0, 1, 1],\n",
       "       [1, 1, 0, 1, 0],\n",
       "       [0, 0, 1, 1, 0],\n",
       "       [0, 0, 1, 0, 1],\n",
       "       [1, 1, 1, 1, 0]])"
      ]
     },
     "execution_count": 295,
     "metadata": {},
     "output_type": "execute_result"
    }
   ],
   "source": [
    "transaction_matrix"
   ]
  },
  {
   "cell_type": "code",
   "execution_count": 296,
   "metadata": {
    "collapsed": false
   },
   "outputs": [
    {
     "data": {
      "text/plain": [
       "array([[ True, False, False, False,  True],\n",
       "       [False,  True, False,  True, False],\n",
       "       [ True,  True,  True, False, False],\n",
       "       [False, False, False,  True,  True],\n",
       "       [ True,  True, False,  True, False],\n",
       "       [False, False,  True,  True, False],\n",
       "       [False, False,  True, False,  True],\n",
       "       [ True,  True,  True,  True, False]], dtype=bool)"
      ]
     },
     "execution_count": 296,
     "metadata": {},
     "output_type": "execute_result"
    }
   ],
   "source": [
    "bool_index = (transaction_matrix>0)\n",
    "bool_index\n",
    "#transactionMatrix[bool_index]"
   ]
  },
  {
   "cell_type": "code",
   "execution_count": 297,
   "metadata": {
    "collapsed": false
   },
   "outputs": [
    {
     "data": {
      "image/png": "[encoded data removed]",
      "text/plain": [
       "<matplotlib.figure.Figure at 0x7f5ec5f34b50>"
      ]
     },
     "metadata": {},
     "output_type": "display_data"
    }
   ],
   "source": [
    "plot_matrix(transaction_matrix)"
   ]
  },
  {
   "cell_type": "code",
   "execution_count": null,
   "metadata": {
    "collapsed": false
   },
   "outputs": [],
   "source": []
  },
  {
   "cell_type": "code",
   "execution_count": null,
   "metadata": {
    "collapsed": false
   },
   "outputs": [],
   "source": []
  },
  {
   "cell_type": "code",
   "execution_count": 298,
   "metadata": {
    "collapsed": false
   },
   "outputs": [
    {
     "name": "stdout",
     "output_type": "stream",
     "text": [
      "this: 0 : Beer\n",
      "\tnext: 1 : Coke\n",
      "\t3\n",
      "\tnext: 2 : Juice\n",
      "\t2\n",
      "\tnext: 3 : Milk\n",
      "\t2\n",
      "\tnext: 4 : Pepsi\n",
      "\t1\n",
      "this: 1 : Coke\n",
      "\tnext: 2 : Juice\n",
      "\t2\n",
      "\tnext: 3 : Milk\n",
      "\t3\n",
      "\tnext: 4 : Pepsi\n",
      "\t0\n",
      "this: 2 : Juice\n",
      "\tnext: 3 : Milk\n",
      "\t2\n",
      "\tnext: 4 : Pepsi\n",
      "\t1\n",
      "this: 3 : Milk\n",
      "\tnext: 4 : Pepsi\n",
      "\t1\n",
      "[[ 0.  3.  2.  2.  1.]\n",
      " [ 0.  0.  2.  3.  0.]\n",
      " [ 0.  0.  0.  2.  1.]\n",
      " [ 0.  0.  0.  0.  1.]\n",
      " [ 0.  0.  0.  0.  0.]]\n"
     ]
    }
   ],
   "source": [
    "# get number of rows and columns\n",
    "rows, columns = transaction_matrix.shape\n",
    "# init new matrix\n",
    "frequent_items_matrix = np.zeros((5,5))\n",
    "# compare every product with every other\n",
    "for this_column in range(0, columns-1):\n",
    "    print \"this:\", this_column,\":\",transaction_df.columns[this_column]\n",
    "    for next_column in range(this_column + 1, columns):\n",
    "        print \"\\tnext:\", next_column,\":\",transaction_df.columns[next_column]\n",
    "        # multiply product pair vectors\n",
    "        product_vector = transaction_matrix[:,this_column] * transaction_matrix[:,next_column]\n",
    "        # check the number of pair occurrences in baskets\n",
    "        count_matches = sum((product_vector)>0)\n",
    "        print \"\\t\", count_matches\n",
    "        # save values to new matrix\n",
    "        frequent_items_matrix[this_column,next_column] = count_matches\n",
    "        \n",
    "        \n",
    "    \n",
    "    #print column_dict\n",
    "\n",
    "print frequent_items_matrix \n",
    "\n",
    "frequent_items_df = pd.DataFrame(frequent_items_matrix, columns = transaction_df.columns.values, index = transaction_df.columns.values)"
   ]
  },
  {
   "cell_type": "code",
   "execution_count": 299,
   "metadata": {
    "collapsed": false
   },
   "outputs": [
    {
     "data": {
      "image/png": "[encoded data removed]",
      "text/plain": [
       "<matplotlib.figure.Figure at 0x7f5ec6285550>"
      ]
     },
     "metadata": {},
     "output_type": "display_data"
    }
   ],
   "source": [
    "plot_matrix(frequent_items_matrix)"
   ]
  },
  {
   "cell_type": "code",
   "execution_count": 300,
   "metadata": {
    "collapsed": false,
    "scrolled": true
   },
   "outputs": [
    {
     "data": {
      "text/plain": [
       "<matplotlib.axes._subplots.AxesSubplot at 0x7f5ec6299a10>"
      ]
     },
     "execution_count": 300,
     "metadata": {},
     "output_type": "execute_result"
    },
    {
     "data": {
      "image/png": "[encoded data removed]",
      "text/plain": [
       "<matplotlib.figure.Figure at 0x7f5ec6729b90>"
      ]
     },
     "metadata": {},
     "output_type": "display_data"
    }
   ],
   "source": [
    "import seaborn as sns\n",
    "sns.heatmap(frequent_items_df)"
   ]
  },
  {
   "cell_type": "code",
   "execution_count": 301,
   "metadata": {
    "collapsed": false
   },
   "outputs": [
    {
     "data": {
      "text/plain": [
       "array([1, 3, 3, 4, 0])"
      ]
     },
     "execution_count": 301,
     "metadata": {},
     "output_type": "execute_result"
    }
   ],
   "source": [
    "frequent_items_matrix.argmax(axis=1)"
   ]
  },
  {
   "cell_type": "code",
   "execution_count": 302,
   "metadata": {
    "collapsed": false
   },
   "outputs": [
    {
     "data": {
      "text/plain": [
       "(array([0, 0, 1, 2]), array([2, 3, 2, 3]))"
      ]
     },
     "execution_count": 302,
     "metadata": {},
     "output_type": "execute_result"
    }
   ],
   "source": [
    "np.where(frequent_items_matrix==2)"
   ]
  },
  {
   "cell_type": "code",
   "execution_count": 305,
   "metadata": {
    "collapsed": false,
    "scrolled": true
   },
   "outputs": [
    {
     "data": {
      "image/png": "[encoded data removed]",
      "text/plain": [
       "<matplotlib.figure.Figure at 0x7f5ec5b6f290>"
      ]
     },
     "metadata": {},
     "output_type": "display_data"
    }
   ],
   "source": [
    "from collections import OrderedDict\n",
    "\n",
    "product_names = transaction_df.columns.values\n",
    "\n",
    "# extract product pairs with minimum frequency(treshold) basket occurrences\n",
    "def extract_pairs(treshold):\n",
    "    output = {}\n",
    "    # select indexes with larger or equal n\n",
    "    matrix_coord_list = np.where(frequent_items_matrix >= treshold)\n",
    "    # take values\n",
    "    row_coords = matrix_coord_list[0]\n",
    "    column_coords = matrix_coord_list[1]\n",
    "    # generate pairs\n",
    "    for index, value in enumerate(row_coords):\n",
    "        #print index\n",
    "        row = row_coords[index]\n",
    "        column = column_coords[index]\n",
    "        # get product names\n",
    "        first_product = product_names[row]\n",
    "        second_product = product_names[column]\n",
    "        # number of basket matches\n",
    "        matches = frequent_items_matrix[row,column]\n",
    "        # put key values into dict\n",
    "        output[first_product+\"-\"+second_product] = matches\n",
    "    \n",
    "    # return sorted dict\n",
    "    sorted_output = OrderedDict(sorted(output.items(), key=lambda x: x[1]))\n",
    "    return sorted_output\n",
    "    \n",
    "# plot pairs with minimum frequency of 1 basket matches\n",
    "ax = pd.Series(extract_pairs(1)).plot(kind=\"barh\", title=\"Frequent Pairs with Frequency >= 1\")\n"
   ]
  },
  {
   "cell_type": "code",
   "execution_count": 162,
   "metadata": {
    "collapsed": false
   },
   "outputs": [
    {
     "data": {
      "text/plain": [
       "3.0"
      ]
     },
     "execution_count": 162,
     "metadata": {},
     "output_type": "execute_result"
    }
   ],
   "source": [
    "frequent_items_matrix[1,3]"
   ]
  },
  {
   "cell_type": "code",
   "execution_count": 250,
   "metadata": {
    "collapsed": false
   },
   "outputs": [
    {
     "data": {
      "text/plain": [
       "array([[ 3.,  2.,  2.,  1.],\n",
       "       [ 0.,  2.,  3.,  0.],\n",
       "       [ 0.,  0.,  2.,  1.],\n",
       "       [ 0.,  0.,  0.,  1.]])"
      ]
     },
     "execution_count": 250,
     "metadata": {},
     "output_type": "execute_result"
    }
   ],
   "source": [
    "#np.array([0,1])\n",
    "frequent_items_matrix[0:4,1:5]"
   ]
  },
  {
   "cell_type": "code",
   "execution_count": 252,
   "metadata": {
    "collapsed": false
   },
   "outputs": [
    {
     "name": "stdout",
     "output_type": "stream",
     "text": [
      "List of nodes:\n",
      "[0, 1, 2, 3, (0, 0)] \n",
      "List of edges:\n",
      "[(0, 0), (0, 1), (0, 2), (0, 3), (1, 1), (1, 2), (2, 2), (2, 3), (3, 3), ((0, 0), (0, 0))]\n"
     ]
    },
    {
     "data": {
      "image/png": "[encoded data removed]",
      "text/plain": [
       "<matplotlib.figure.Figure at 0x7f5ec6437550>"
      ]
     },
     "metadata": {},
     "output_type": "display_data"
    }
   ],
   "source": [
    "G=nx.Graph()#  G is an empty Graph\n",
    "Gr=nx.from_numpy_matrix(frequent_items_matrix[0:4,1:5])\n",
    "\n",
    "#Nodes=range(9)\n",
    "#G.add_nodes_from([0, 1, 2])\n",
    "#Edges=[(0,2),(1,0),(2,0),(2,1)]\n",
    "#G.add_edges_from(Edges)\n",
    "#G.add_edge(6,8)\n",
    "\n",
    "Gr.add_cycle([(0,0)])\n",
    "\n",
    "print 'List of nodes:\\n', Gr.nodes(), '\\n', 'List of edges:\\n', Gr.edges()\n",
    "nx.draw(Gr, node_color='g', with_labels=True, alpha=0.5)#matplotlib plot of the graph Gr"
   ]
  },
  {
   "cell_type": "code",
   "execution_count": 20,
   "metadata": {
    "collapsed": false
   },
   "outputs": [
    {
     "data": {
      "text/plain": [
       "'\\nIncorrect: You need to calculate the edit distance for each of the six pairs of words. A useful rule is that this distance is the sum of the lengths of the words, minus twice the length of the LCS (longest common subsequence). The LCS of two words is any longest sequence of characters that can be formed by striking out characters from each of the words. For example, the LCS of \"rotate\" and \"aorta\" is of length 3; both \"rta\" and \"ota\" are LCS\\'s. Note, for instance, that \"ota\" can be made from \"rotate\" by striking out positions 1, 5, and 6, and \"ota\" can be made from \"aorta\" by striking out positions 1 and 3. Thus, the edit distance between \"rotate\" and \"aorta\" is |rotate| + |aorta| - 2*|ota| = 6 + 5 -2*3 = 5. One way to perform the five edits is to delete positions 1, 5, and 6 from \"rotate\", leaving \"ota\", and then insert \"a\" at the beginning and \"r\" before \"t\".\\n'"
      ]
     },
     "execution_count": 20,
     "metadata": {},
     "output_type": "execute_result"
    }
   ],
   "source": [
    "### edit distance ###\n",
    "'''\n",
    "Incorrect: You need to calculate the edit distance for each of the six pairs of words. A useful rule is that this distance is the sum of the lengths of the words, minus twice the length of the LCS (longest common subsequence). The LCS of two words is any longest sequence of characters that can be formed by striking out characters from each of the words. For example, the LCS of \"rotate\" and \"aorta\" is of length 3; both \"rta\" and \"ota\" are LCS's. Note, for instance, that \"ota\" can be made from \"rotate\" by striking out positions 1, 5, and 6, and \"ota\" can be made from \"aorta\" by striking out positions 1 and 3. Thus, the edit distance between \"rotate\" and \"aorta\" is |rotate| + |aorta| - 2*|ota| = 6 + 5 -2*3 = 5. One way to perform the five edits is to delete positions 1, 5, and 6 from \"rotate\", leaving \"ota\", and then insert \"a\" at the beginning and \"r\" before \"t\".\n",
    "'''"
   ]
  },
  {
   "cell_type": "markdown",
   "metadata": {
    "collapsed": true
   },
   "source": [
    "# clustering HW ###"
   ]
  },
  {
   "cell_type": "code",
   "execution_count": 29,
   "metadata": {
    "collapsed": true
   },
   "outputs": [],
   "source": [
    "# question 2"
   ]
  },
  {
   "cell_type": "code",
   "execution_count": 42,
   "metadata": {
    "collapsed": false
   },
   "outputs": [
    {
     "name": "stdout",
     "output_type": "stream",
     "text": [
      "(63, 8)  to  (0, 0) L2: 63.5059052372\n",
      "(63, 8)  to  (0, 0) L1: 71\n",
      "(66, 5)  to  (0, 0) L2: 66.1891229735\n",
      "(66, 5)  to  (0, 0) L1: 71\n",
      "(50, 18)  to  (0, 0) L2: 53.1413210223\n",
      "(50, 18)  to  (0, 0) L1: 68\n",
      "(61, 8)  to  (0, 0) L2: 61.5223536611\n",
      "(61, 8)  to  (0, 0) L1: 69\n",
      "OK\n",
      "(63, 8)  to  (100, 40) L2: 48.9182992345\n",
      "(63, 8)  to  (100, 40) L1: 69\n",
      "(66, 5)  to  (100, 40) L2: 48.795491595\n",
      "(66, 5)  to  (100, 40) L1: 69\n",
      "(50, 18)  to  (100, 40) L2: 54.626001135\n",
      "(50, 18)  to  (100, 40) L1: 72\n",
      "(61, 8)  to  (100, 40) L2: 50.4479930225\n",
      "(61, 8)  to  (100, 40) L1: 71\n",
      "OK\n"
     ]
    }
   ],
   "source": [
    "\n",
    "centroids = ((0,0),(100,40))\n",
    "#print centroids[1][1]\n",
    "#centroid2 = (100,40)\n",
    "\n",
    "# question2\n",
    "#points = ((53,18),(66,5),(51,15),(56,13))\n",
    "# question 4\n",
    "points = ((63,8),(66,5),(50,18),(61,8))\n",
    "\n",
    "for centroid in centroids:\n",
    "    for point in points:\n",
    "        u = np.array(point)\n",
    "        v = np.array(centroid)\n",
    "        print point, \" to \", centroid, \"L2:\", np.linalg.norm(u - v)\n",
    "        print point, \" to \", centroid, \"L1:\", sc.spatial.distance.cityblock(u, v)\n",
    "        # check if L1 to 0,0 and L2 to 100,40\n",
    "        x = point[0] \n",
    "        y = point[1]\n",
    "        \n",
    "        lover = 70-y\n",
    "        upper = 58-0.4*y\n",
    "        if x < lover and x > upper:\n",
    "            print \"OK\"\n",
    "            "
   ]
  },
  {
   "cell_type": "markdown",
   "metadata": {},
   "source": [
    "## question 6###"
   ]
  },
  {
   "cell_type": "code",
   "execution_count": 56,
   "metadata": {
    "collapsed": false
   },
   "outputs": [
    {
     "name": "stdout",
     "output_type": "stream",
     "text": [
      "(0, 0) to (10, 10)  d: ( 10 , 10 ), euclidian:  14.1421356237\n",
      "(0, 0) to (21, 21)  d: ( 21 , 21 ), euclidian:  29.6984848098\n",
      "(0, 0) to (33, 33)  d: ( 33 , 33 ), euclidian:  46.6690475583\n",
      "(0, 0) to (5, 27)  d: ( 5 , 27 ), euclidian:  27.4590604355\n",
      "(0, 0) to (28, 6)  d: ( 28 , 6 ), euclidian:  28.6356421266\n",
      "(10, 10) to (21, 21)  d: ( 11 , 11 ), euclidian:  15.5563491861\n",
      "(10, 10) to (33, 33)  d: ( 23 , 23 ), euclidian:  32.5269119346\n",
      "(10, 10) to (5, 27)  d: ( -5 , 17 ), euclidian:  17.7200451467\n",
      "(10, 10) to (28, 6)  d: ( 18 , -4 ), euclidian:  18.4390889146\n",
      "(21, 21) to (33, 33)  d: ( 12 , 12 ), euclidian:  16.9705627485\n",
      "(21, 21) to (5, 27)  d: ( -16 , 6 ), euclidian:  17.0880074906\n",
      "(21, 21) to (28, 6)  d: ( 7 , -15 ), euclidian:  16.5529453572\n",
      "(33, 33) to (5, 27)  d: ( -28 , -6 ), euclidian:  28.6356421266\n",
      "(33, 33) to (28, 6)  d: ( -5 , -27 ), euclidian:  27.4590604355\n",
      "(5, 27) to (28, 6)  d: ( 23 , -21 ), euclidian:  31.1448230048\n"
     ]
    }
   ],
   "source": [
    "points = ((0,0),(10,10),(21,21),(33,33),(5,27),(28,6))\n",
    "\n",
    "for index in range(0, len(points)):\n",
    "    \n",
    "    for index2 in range(index+1, len(points)):\n",
    "        # points\n",
    "        point = points[index]\n",
    "        point2 = points[index2]\n",
    "        # vectors\n",
    "        u = np.array(point)\n",
    "        v = np.array(point2)\n",
    "        \n",
    "        \n",
    "        print point, \"to\", point2 , \" d: (\", point2[0]-point[0],\",\", point2[1]-point[1], \"), euclidian: \", np.linalg.norm(u - v) "
   ]
  },
  {
   "cell_type": "markdown",
   "metadata": {},
   "source": [
    "# Module3 Locality-Sensitive Hashing #"
   ]
  },
  {
   "cell_type": "code",
   "execution_count": null,
   "metadata": {
    "collapsed": true
   },
   "outputs": [],
   "source": [
    "# q2 #\n"
   ]
  },
  {
   "cell_type": "markdown",
   "metadata": {},
   "source": [
    "# Communities (Modul 6, Social Networks) #"
   ]
  },
  {
   "cell_type": "code",
   "execution_count": 117,
   "metadata": {
    "collapsed": false
   },
   "outputs": [
    {
     "data": {
      "text/plain": [
       "matrix([[0, 1, 0, 0, 0, 0, 0, 1],\n",
       "        [1, 0, 1, 0, 0, 0, 0, 1],\n",
       "        [0, 1, 0, 1, 0, 0, 1, 0],\n",
       "        [0, 0, 1, 0, 1, 1, 0, 0],\n",
       "        [0, 0, 0, 1, 0, 1, 0, 0],\n",
       "        [0, 0, 0, 1, 1, 0, 1, 0],\n",
       "        [0, 0, 1, 0, 0, 1, 0, 1],\n",
       "        [1, 1, 0, 0, 0, 0, 1, 0]])"
      ]
     },
     "execution_count": 117,
     "metadata": {},
     "output_type": "execute_result"
    }
   ],
   "source": [
    "# q1 #\n",
    "A = np.matrix([[0,1,0,0,0,0,0,1],\n",
    "                [1,0,1,0,0,0,0,1],\n",
    "              [0,1,0,1,0,0,1,0],\n",
    "              [0,0,1,0,1,1,0,0],\n",
    "              [0,0,0,1,0,1,0,0],\n",
    "              [0,0,0,1,1,0,1,0],\n",
    "              [0,0,1,0,0,1,0,1],\n",
    "              [1,1,0,0,0,0,1,0],])\n",
    "A"
   ]
  },
  {
   "cell_type": "code",
   "execution_count": 157,
   "metadata": {
    "collapsed": false
   },
   "outputs": [
    {
     "name": "stdout",
     "output_type": "stream",
     "text": [
      "List of nodes:\n",
      "['1', '3', '2', '5', '4', '7', '6', '8'] \n",
      "List of edges:\n",
      "[('1', '8'), ('1', '2'), ('3', '2'), ('3', '4'), ('3', '7'), ('2', '8'), ('5', '4'), ('5', '6'), ('4', '6'), ('7', '8'), ('7', '6')]\n"
     ]
    },
    {
     "data": {
      "image/png": "[encoded data removed]",
      "text/plain": [
       "<matplotlib.figure.Figure at 0x7ff53c9bf5d0>"
      ]
     },
     "metadata": {},
     "output_type": "display_data"
    }
   ],
   "source": [
    "# Q1 # \n",
    "import networkx as nx\n",
    "\n",
    "G=nx.Graph()#  G is an empty Graph\n",
    "Gr=nx.from_numpy_matrix(A)\n",
    "mapping={0:'1',1:'2',2:'3', 3:'4', 4:'5', 5:'6', 6:'7', 7:'8'}\n",
    "Gr=nx.relabel_nodes(Gr,mapping)\n",
    "pos=nx.circular_layout(Gr)\n",
    "\n",
    "#Nodes=range(9)\n",
    "#G.add_nodes_from([0, 1, 2])\n",
    "#Edges=[(0,2),(1,0),(2,0),(2,1)]\n",
    "#G.add_edges_from(Edges)\n",
    "#G.add_edge(6,8)\n",
    "\n",
    "#Gr.add_cycle([(0,0)])\n",
    "\n",
    "#fixedpos = {1:(0,0), 6:(1,1), 11:(1,0), 16:(0,1)}\n",
    "fixedpos = {1:(-2,0), 2:(1,1), 3:(0,2), 4:(1,1), 5:(2,0), 6:(1,-1), 7:(0,-2), 8:(-1,-1)}\n",
    "#pos = nx.spring_layout(Gr, fixed = fixedpos.keys(), pos=fixedpos)\n",
    "\n",
    "print 'List of nodes:\\n', Gr.nodes(), '\\n', 'List of edges:\\n', Gr.edges()\n",
    "nx.draw(Gr, pos,node_color='g', with_labels=True, alpha=0.7)#matplotlib plot of the graph Gr"
   ]
  },
  {
   "cell_type": "code",
   "execution_count": 119,
   "metadata": {
    "collapsed": false
   },
   "outputs": [
    {
     "name": "stdout",
     "output_type": "stream",
     "text": [
      "  (0, 0)\t2\n",
      "  (0, 2)\t-1\n",
      "  (0, 7)\t-1\n",
      "  (1, 1)\t3\n",
      "  (1, 2)\t-1\n",
      "  (1, 4)\t-1\n",
      "  (1, 5)\t-1\n",
      "  (2, 0)\t-1\n",
      "  (2, 1)\t-1\n",
      "  (2, 2)\t3\n",
      "  (2, 7)\t-1\n",
      "  (3, 3)\t2\n",
      "  (3, 4)\t-1\n",
      "  (3, 6)\t-1\n",
      "  (4, 1)\t-1\n",
      "  (4, 3)\t-1\n",
      "  (4, 4)\t3\n",
      "  (4, 6)\t-1\n",
      "  (5, 1)\t-1\n",
      "  (5, 5)\t3\n",
      "  (5, 6)\t-1\n",
      "  (5, 7)\t-1\n",
      "  (6, 3)\t-1\n",
      "  (6, 4)\t-1\n",
      "  (6, 5)\t-1\n",
      "  (6, 6)\t3\n",
      "  (7, 0)\t-1\n",
      "  (7, 2)\t-1\n",
      "  (7, 5)\t-1\n",
      "  (7, 7)\t3\n"
     ]
    }
   ],
   "source": [
    "L = nx.laplacian_matrix(Gr)\n",
    "print L\n"
   ]
  },
  {
   "cell_type": "code",
   "execution_count": 120,
   "metadata": {
    "collapsed": false
   },
   "outputs": [
    {
     "data": {
      "text/plain": [
       "matrix([[ 2,  0, -1,  0,  0,  0,  0, -1],\n",
       "        [ 0,  3, -1,  0, -1, -1,  0,  0],\n",
       "        [-1, -1,  3,  0,  0,  0,  0, -1],\n",
       "        [ 0,  0,  0,  2, -1,  0, -1,  0],\n",
       "        [ 0, -1,  0, -1,  3,  0, -1,  0],\n",
       "        [ 0, -1,  0,  0,  0,  3, -1, -1],\n",
       "        [ 0,  0,  0, -1, -1, -1,  3,  0],\n",
       "        [-1,  0, -1,  0,  0, -1,  0,  3]])"
      ]
     },
     "execution_count": 120,
     "metadata": {},
     "output_type": "execute_result"
    }
   ],
   "source": [
    "#from scipy import sparse\n",
    "L.todense()"
   ]
  },
  {
   "cell_type": "code",
   "execution_count": 121,
   "metadata": {
    "collapsed": false
   },
   "outputs": [
    {
     "data": {
      "text/plain": [
       "<matplotlib.axes._subplots.AxesSubplot at 0x7ff53d4cf410>"
      ]
     },
     "execution_count": 121,
     "metadata": {},
     "output_type": "execute_result"
    },
    {
     "data": {
      "image/png": "[encoded data removed]",
      "text/plain": [
       "<matplotlib.figure.Figure at 0x7ff53d4d8190>"
      ]
     },
     "metadata": {},
     "output_type": "display_data"
    }
   ],
   "source": [
    "import seaborn as sns\n",
    "sns.heatmap(L.todense())"
   ]
  },
  {
   "cell_type": "code",
   "execution_count": 122,
   "metadata": {
    "collapsed": false
   },
   "outputs": [
    {
     "data": {
      "text/plain": [
       "matrix([[ 2,  1, -1,  0,  0,  0,  0,  0],\n",
       "        [ 1,  3,  0,  0, -1, -1,  0,  1],\n",
       "        [-1,  0,  3,  1,  0,  0,  1, -1],\n",
       "        [ 0,  0,  1,  2,  0,  1, -1,  0],\n",
       "        [ 0, -1,  0,  0,  3,  1, -1,  0],\n",
       "        [ 0, -1,  0,  1,  1,  3,  0, -1],\n",
       "        [ 0,  0,  1, -1, -1,  0,  3,  1],\n",
       "        [ 0,  1, -1,  0,  0, -1,  1,  3]])"
      ]
     },
     "execution_count": 122,
     "metadata": {},
     "output_type": "execute_result"
    }
   ],
   "source": [
    "# laplazian L = D-A\n",
    "LapM = L.todense()\n",
    "D = A + LapM\n",
    "D"
   ]
  },
  {
   "cell_type": "code",
   "execution_count": 125,
   "metadata": {
    "collapsed": false
   },
   "outputs": [
    {
     "name": "stdout",
     "output_type": "stream",
     "text": [
      "22\n",
      "22\n"
     ]
    }
   ],
   "source": [
    "# sum of entries in D\n",
    "print D.sum()\n",
    "# number of nonzero entries\n",
    "print np.count_nonzero(A)"
   ]
  },
  {
   "cell_type": "code",
   "execution_count": 139,
   "metadata": {
    "collapsed": false
   },
   "outputs": [
    {
     "data": {
      "text/plain": [
       "array([ 0.4559848 ,  0.12068016, -0.51278695,  0.12068016,  0.4559848 ,\n",
       "        0.12068016, -0.51278695,  0.12068016])"
      ]
     },
     "execution_count": 139,
     "metadata": {},
     "output_type": "execute_result"
    }
   ],
   "source": [
    "# not the scope of example # \n",
    "from scipy import linalg as LA\n",
    "lamb, X = LA.eig(A)\n",
    "#print lamb\n",
    "X[:,2]"
   ]
  },
  {
   "cell_type": "code",
   "execution_count": null,
   "metadata": {
    "collapsed": false
   },
   "outputs": [],
   "source": [
    "fixed = fixedpos.keys()"
   ]
  },
  {
   "cell_type": "markdown",
   "metadata": {},
   "source": [
    "# Stream Algorithms ##"
   ]
  },
  {
   "cell_type": "code",
   "execution_count": 211,
   "metadata": {
    "collapsed": true
   },
   "outputs": [],
   "source": [
    "# q3 # Flajoret-Martin Algorithm\n",
    "\n",
    "arr = [{1, 5, 8, 9},  {1, 2, 3, 9},  { 1, 3, 9, 10},  {1, 3, 6, 8}]"
   ]
  },
  {
   "cell_type": "code",
   "execution_count": 212,
   "metadata": {
    "collapsed": false
   },
   "outputs": [],
   "source": [
    "# @args, binary->binary number, length of it\n",
    "def count_tail_zeros(binary):\n",
    "    bin_length = len(binary)-1\n",
    "    bstring = str(binary)\n",
    "    last1index = bstring.rfind(\"1\")\n",
    "    if last1index == -1:\n",
    "        return 0\n",
    "    else:\n",
    "        return bin_length-last1index\n",
    "    #return str(binary)"
   ]
  },
  {
   "cell_type": "code",
   "execution_count": 213,
   "metadata": {
    "collapsed": false
   },
   "outputs": [
    {
     "name": "stdout",
     "output_type": "stream",
     "text": [
      "# set: set([8, 9, 5, 1])\n",
      "8 , 9 (binary 4): 1001 0\n",
      "9 , 1 (binary 4): 0001 0\n",
      "5 , 0 (binary 4): 0000 0\n",
      "1 , 10 (binary 4): 1010 1\n",
      "-- max_tail_zero_count: 1 number of approx distinct elements:  2\n",
      "# set: set([9, 2, 3, 1])\n",
      "9 , 1 (binary 4): 0001 0\n",
      "2 , 2 (binary 4): 0010 1\n",
      "3 , 5 (binary 4): 0101 0\n",
      "1 , 10 (binary 4): 1010 1\n",
      "-- max_tail_zero_count: 1 number of approx distinct elements:  2\n",
      "# set: set([9, 10, 3, 1])\n",
      "9 , 1 (binary 4): 0001 0\n",
      "10 , 4 (binary 4): 0100 2\n",
      "3 , 5 (binary 4): 0101 0\n",
      "1 , 10 (binary 4): 1010 1\n",
      "-- max_tail_zero_count: 2 number of approx distinct elements:  4\n",
      "# set: set([8, 1, 3, 6])\n",
      "8 , 9 (binary 4): 1001 0\n",
      "1 , 10 (binary 4): 1010 1\n",
      "3 , 5 (binary 4): 0101 0\n",
      "6 , 3 (binary 4): 0011 0\n",
      "-- max_tail_zero_count: 1 number of approx distinct elements:  2\n"
     ]
    }
   ],
   "source": [
    "def my_hash(val): return (3*val + 7) % 11\n",
    "\n",
    "for item_set in arr:\n",
    "    # maximum zeros in set\n",
    "    max_zero = 0\n",
    "    print \"# set:\", item_set\n",
    "    for item in item_set:\n",
    "        # hash item\n",
    "        item2 = my_hash(item)\n",
    "        binary_representation = '{0:04b}'.format(item2)\n",
    "        zero_count = binary_representation.count(\"0\")\n",
    "        tail_zero_count = count_tail_zeros(binary_representation)\n",
    "        print item,\",\",item2,\"(binary 4):\", binary_representation, tail_zero_count\n",
    "        if max_zero < tail_zero_count:\n",
    "            max_zero = tail_zero_count\n",
    "    print \"--\", \"max_tail_zero_count:\", max_zero, \"number of approx distinct elements: \", 2**max_zero"
   ]
  },
  {
   "cell_type": "markdown",
   "metadata": {},
   "source": [
    "## q1 - Moments (Alon-Matias-Szegedy Algorithm)#"
   ]
  },
  {
   "cell_type": "code",
   "execution_count": 232,
   "metadata": {
    "collapsed": false
   },
   "outputs": [
    {
     "name": "stdout",
     "output_type": "stream",
     "text": [
      "[1, 2, 3, 4, 5, 6, 7, 8, 9, 10, 1, 2, 3, 4, 5, 6, 7, 8, 9, 10, 1, 2, 3, 4, 5, 6, 7, 8, 9, 10, 1, 2, 3, 4, 5, 6, 7, 8, 9, 10, 1, 2, 3, 4, 5, 6, 7, 8, 9, 10, 1, 2, 3, 4, 5, 6, 7, 8, 9, 10, 1, 2, 3, 4, 5, 6, 7, 8, 9, 10, 1, 2, 3, 4, 5]\n"
     ]
    },
    {
     "data": {
      "text/plain": [
       "4"
      ]
     },
     "execution_count": 232,
     "metadata": {},
     "output_type": "execute_result"
    }
   ],
   "source": [
    "value_arr = []\n",
    "for timestamp in range(1,76):\n",
    "    value = timestamp % 10\n",
    "    if value == 0:\n",
    "        value = 10\n",
    "    # add to array\n",
    "    value_arr.append(value)\n",
    "    #print timestamp, value\n",
    "print value_arr\n",
    "\n",
    "value_arr[40:].count(1)"
   ]
  },
  {
   "cell_type": "code",
   "execution_count": 238,
   "metadata": {
    "collapsed": false
   },
   "outputs": [
    {
     "name": "stdout",
     "output_type": "stream",
     "text": [
      "1 appears: 8\n",
      "2 appears: 8\n",
      "3 appears: 8\n",
      "4 appears: 8\n",
      "5 appears: 8\n",
      "6 appears: 7\n",
      "7 appears: 7\n",
      "8 appears: 7\n",
      "9 appears: 7\n",
      "10 appears: 7\n",
      "suprise: 565\n"
     ]
    }
   ],
   "source": [
    "# calculate suprise for the stream\n",
    "suprise = 0\n",
    "value_set = set(value_arr)\n",
    "for val in value_set:\n",
    "    apperance = value_arr.count(val)\n",
    "    print val, \"appears:\", apperance\n",
    "    suprise += apperance**2\n",
    "    \n",
    "print \"suprise:\", suprise    "
   ]
  },
  {
   "cell_type": "code",
   "execution_count": 246,
   "metadata": {
    "collapsed": false
   },
   "outputs": [
    {
     "name": "stdout",
     "output_type": "stream",
     "text": [
      "375.0\n",
      "675.0\n",
      "675.0\n",
      "525.0\n"
     ]
    }
   ],
   "source": [
    "#import statistics\n",
    "# calculate suprise from random elements\n",
    "def calculate_suprise(index1, index2, index3):\n",
    "    apper1 = value_arr[index1-1:].count(value_arr[index1-1])\n",
    "    apper2 = value_arr[index2-1:].count(value_arr[index2-1])\n",
    "    apper3 = value_arr[index3-1:].count(value_arr[index3-1])\n",
    "    \n",
    "    estimate1 = 75*(2*apper1-1)\n",
    "    estimate2 = 75*(2*apper2-1)\n",
    "    estimate3 = 75*(2*apper3-1)\n",
    "    \n",
    "    return np.median([estimate1, estimate2, estimate3])\n",
    "    \n",
    "    \n",
    "print calculate_suprise(20, 49, 53) - \n",
    "print calculate_suprise(5, 33, 67)\n",
    "print calculate_suprise(31, 32, 44)\n",
    "print calculate_suprise(3, 45, 72)"
   ]
  },
  {
   "cell_type": "code",
   "execution_count": null,
   "metadata": {
    "collapsed": true
   },
   "outputs": [],
   "source": []
  }
 ],
 "metadata": {
  "anaconda-cloud": {},
  "kernelspec": {
   "display_name": "Python [default]",
   "language": "python",
   "name": "python2"
  },
  "language_info": {
   "codemirror_mode": {
    "name": "ipython",
    "version": 2
   },
   "file_extension": ".py",
   "mimetype": "text/x-python",
   "name": "python",
   "nbconvert_exporter": "python",
   "pygments_lexer": "ipython2",
   "version": "2.7.12"
  }
 },
 "nbformat": 4,
 "nbformat_minor": 0
}
