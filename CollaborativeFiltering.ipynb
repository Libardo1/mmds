{
 "cells": [
  {
   "cell_type": "markdown",
   "metadata": {},
   "source": [
    "## import some stuff ##"
   ]
  },
  {
   "cell_type": "code",
   "execution_count": 228,
   "metadata": {
    "collapsed": false
   },
   "outputs": [],
   "source": [
    "import numpy as np\n",
    "import scipy as sc\n",
    "from pandas import Series,DataFrame\n",
    "import pandas as pd\n",
    "\n",
    "from scipy import spatial\n",
    "from sklearn import preprocessing\n",
    "\n",
    "import matplotlib.pyplot as plt\n",
    "import matplotlib as mpl\n",
    "import seaborn as sns\n",
    "\n",
    "from collections import OrderedDict\n",
    "from fractions import Fraction\n",
    "\n",
    "%matplotlib inline\n",
    "mpl.rcParams['figure.figsize'] = (10.0, 5)"
   ]
  },
  {
   "cell_type": "markdown",
   "metadata": {
    "collapsed": true
   },
   "source": [
    "# Part 1 #\n",
    "## Collaborative filtering item-item ##\n",
    "\n",
    "\n",
    "This notebook is implementation of collaborative filtering algorithm in python.\n",
    "Missing rating for Hotel1, and User5 is going to be predicted. \n",
    "Recommendations are maid based on these calculations.\n",
    "\n",
    "Have fun..."
   ]
  },
  {
   "cell_type": "code",
   "execution_count": 229,
   "metadata": {
    "collapsed": false
   },
   "outputs": [
    {
     "data": {
      "text/html": [
       "<div>\n",
       "<table border=\"1\" class=\"dataframe\">\n",
       "  <thead>\n",
       "    <tr style=\"text-align: right;\">\n",
       "      <th></th>\n",
       "      <th>User1</th>\n",
       "      <th>User2</th>\n",
       "      <th>User3</th>\n",
       "      <th>User4</th>\n",
       "      <th>User5</th>\n",
       "      <th>User6</th>\n",
       "      <th>User7</th>\n",
       "      <th>User8</th>\n",
       "      <th>User9</th>\n",
       "      <th>User10</th>\n",
       "      <th>User11</th>\n",
       "      <th>User12</th>\n",
       "    </tr>\n",
       "  </thead>\n",
       "  <tbody>\n",
       "    <tr>\n",
       "      <th>Hotel1</th>\n",
       "      <td>1</td>\n",
       "      <td>0</td>\n",
       "      <td>3</td>\n",
       "      <td>0</td>\n",
       "      <td>0</td>\n",
       "      <td>5</td>\n",
       "      <td>0</td>\n",
       "      <td>0</td>\n",
       "      <td>5</td>\n",
       "      <td>0</td>\n",
       "      <td>4</td>\n",
       "      <td>0</td>\n",
       "    </tr>\n",
       "    <tr>\n",
       "      <th>Hotel2</th>\n",
       "      <td>0</td>\n",
       "      <td>0</td>\n",
       "      <td>5</td>\n",
       "      <td>4</td>\n",
       "      <td>0</td>\n",
       "      <td>0</td>\n",
       "      <td>4</td>\n",
       "      <td>0</td>\n",
       "      <td>0</td>\n",
       "      <td>2</td>\n",
       "      <td>1</td>\n",
       "      <td>3</td>\n",
       "    </tr>\n",
       "    <tr>\n",
       "      <th>Hotel3</th>\n",
       "      <td>2</td>\n",
       "      <td>4</td>\n",
       "      <td>0</td>\n",
       "      <td>1</td>\n",
       "      <td>2</td>\n",
       "      <td>0</td>\n",
       "      <td>3</td>\n",
       "      <td>0</td>\n",
       "      <td>4</td>\n",
       "      <td>3</td>\n",
       "      <td>5</td>\n",
       "      <td>0</td>\n",
       "    </tr>\n",
       "    <tr>\n",
       "      <th>Hotel4</th>\n",
       "      <td>0</td>\n",
       "      <td>2</td>\n",
       "      <td>4</td>\n",
       "      <td>0</td>\n",
       "      <td>5</td>\n",
       "      <td>0</td>\n",
       "      <td>0</td>\n",
       "      <td>4</td>\n",
       "      <td>0</td>\n",
       "      <td>0</td>\n",
       "      <td>2</td>\n",
       "      <td>0</td>\n",
       "    </tr>\n",
       "    <tr>\n",
       "      <th>Hotel5</th>\n",
       "      <td>0</td>\n",
       "      <td>0</td>\n",
       "      <td>4</td>\n",
       "      <td>3</td>\n",
       "      <td>4</td>\n",
       "      <td>2</td>\n",
       "      <td>0</td>\n",
       "      <td>0</td>\n",
       "      <td>0</td>\n",
       "      <td>0</td>\n",
       "      <td>2</td>\n",
       "      <td>5</td>\n",
       "    </tr>\n",
       "    <tr>\n",
       "      <th>Hotel6</th>\n",
       "      <td>1</td>\n",
       "      <td>0</td>\n",
       "      <td>3</td>\n",
       "      <td>0</td>\n",
       "      <td>3</td>\n",
       "      <td>0</td>\n",
       "      <td>0</td>\n",
       "      <td>2</td>\n",
       "      <td>0</td>\n",
       "      <td>0</td>\n",
       "      <td>4</td>\n",
       "      <td>0</td>\n",
       "    </tr>\n",
       "  </tbody>\n",
       "</table>\n",
       "</div>"
      ],
      "text/plain": [
       "        User1  User2  User3  User4  User5  User6  User7  User8  User9  User10  \\\n",
       "Hotel1      1      0      3      0      0      5      0      0      5       0   \n",
       "Hotel2      0      0      5      4      0      0      4      0      0       2   \n",
       "Hotel3      2      4      0      1      2      0      3      0      4       3   \n",
       "Hotel4      0      2      4      0      5      0      0      4      0       0   \n",
       "Hotel5      0      0      4      3      4      2      0      0      0       0   \n",
       "Hotel6      1      0      3      0      3      0      0      2      0       0   \n",
       "\n",
       "        User11  User12  \n",
       "Hotel1       4       0  \n",
       "Hotel2       1       3  \n",
       "Hotel3       5       0  \n",
       "Hotel4       2       0  \n",
       "Hotel5       2       5  \n",
       "Hotel6       4       0  "
      ]
     },
     "execution_count": 229,
     "metadata": {},
     "output_type": "execute_result"
    }
   ],
   "source": [
    "df = pd.DataFrame({'Hotel1' :[1,0,3,0,0,5,0,0,5,0,4,0],\n",
    "                   'Hotel2' :[0,0,5,4,0,0,4,0,0,2,1,3],\n",
    "                   'Hotel3' :[2,4,0,1,2,0,3,0,4,3,5,0],\n",
    "                   'Hotel4' :[0,2,4,0,5,0,0,4,0,0,2,0],\n",
    "                   'Hotel5' :[0,0,4,3,4,2,0,0,0,0,2,5],\n",
    "                   'Hotel6' : [1,0,3,0,3,0,0,2,0,0,4,0],\n",
    "                   }, index=['User1','User2','User3','User4','User5',\n",
    "                             'User6','User7','User8','User9','User10','User11','User12'])\n",
    "df = df.transpose()\n",
    "df"
   ]
  },
  {
   "cell_type": "code",
   "execution_count": 230,
   "metadata": {
    "collapsed": false
   },
   "outputs": [
    {
     "data": {
      "text/plain": [
       "<matplotlib.axes._subplots.AxesSubplot at 0x7fcba11753d0>"
      ]
     },
     "execution_count": 230,
     "metadata": {},
     "output_type": "execute_result"
    },
    {
     "data": {
      "image/png": "[encoded data removed]",
      "text/plain": [
       "<matplotlib.figure.Figure at 0x7fcba1ad5b90>"
      ]
     },
     "metadata": {},
     "output_type": "display_data"
    }
   ],
   "source": [
    "# check if hotels have enough ratings (enough support) to be able to make predictions\n",
    "df.transpose().plot.barh(stacked=True)"
   ]
  },
  {
   "cell_type": "code",
   "execution_count": 231,
   "metadata": {
    "collapsed": false
   },
   "outputs": [
    {
     "data": {
      "text/html": [
       "<div>\n",
       "<table border=\"1\" class=\"dataframe\">\n",
       "  <thead>\n",
       "    <tr style=\"text-align: right;\">\n",
       "      <th></th>\n",
       "      <th>User1</th>\n",
       "      <th>User2</th>\n",
       "      <th>User3</th>\n",
       "      <th>User4</th>\n",
       "      <th>User5</th>\n",
       "      <th>User6</th>\n",
       "      <th>User7</th>\n",
       "      <th>User8</th>\n",
       "      <th>User9</th>\n",
       "      <th>User10</th>\n",
       "      <th>User11</th>\n",
       "      <th>User12</th>\n",
       "    </tr>\n",
       "  </thead>\n",
       "  <tbody>\n",
       "    <tr>\n",
       "      <th>Hotel1</th>\n",
       "      <td>False</td>\n",
       "      <td>True</td>\n",
       "      <td>False</td>\n",
       "      <td>True</td>\n",
       "      <td>True</td>\n",
       "      <td>False</td>\n",
       "      <td>True</td>\n",
       "      <td>True</td>\n",
       "      <td>False</td>\n",
       "      <td>True</td>\n",
       "      <td>False</td>\n",
       "      <td>True</td>\n",
       "    </tr>\n",
       "    <tr>\n",
       "      <th>Hotel2</th>\n",
       "      <td>True</td>\n",
       "      <td>True</td>\n",
       "      <td>False</td>\n",
       "      <td>False</td>\n",
       "      <td>True</td>\n",
       "      <td>True</td>\n",
       "      <td>False</td>\n",
       "      <td>True</td>\n",
       "      <td>True</td>\n",
       "      <td>False</td>\n",
       "      <td>False</td>\n",
       "      <td>False</td>\n",
       "    </tr>\n",
       "    <tr>\n",
       "      <th>Hotel3</th>\n",
       "      <td>False</td>\n",
       "      <td>False</td>\n",
       "      <td>True</td>\n",
       "      <td>False</td>\n",
       "      <td>False</td>\n",
       "      <td>True</td>\n",
       "      <td>False</td>\n",
       "      <td>True</td>\n",
       "      <td>False</td>\n",
       "      <td>False</td>\n",
       "      <td>False</td>\n",
       "      <td>True</td>\n",
       "    </tr>\n",
       "    <tr>\n",
       "      <th>Hotel4</th>\n",
       "      <td>True</td>\n",
       "      <td>False</td>\n",
       "      <td>False</td>\n",
       "      <td>True</td>\n",
       "      <td>False</td>\n",
       "      <td>True</td>\n",
       "      <td>True</td>\n",
       "      <td>False</td>\n",
       "      <td>True</td>\n",
       "      <td>True</td>\n",
       "      <td>False</td>\n",
       "      <td>True</td>\n",
       "    </tr>\n",
       "    <tr>\n",
       "      <th>Hotel5</th>\n",
       "      <td>True</td>\n",
       "      <td>True</td>\n",
       "      <td>False</td>\n",
       "      <td>False</td>\n",
       "      <td>False</td>\n",
       "      <td>False</td>\n",
       "      <td>True</td>\n",
       "      <td>True</td>\n",
       "      <td>True</td>\n",
       "      <td>True</td>\n",
       "      <td>False</td>\n",
       "      <td>False</td>\n",
       "    </tr>\n",
       "    <tr>\n",
       "      <th>Hotel6</th>\n",
       "      <td>False</td>\n",
       "      <td>True</td>\n",
       "      <td>False</td>\n",
       "      <td>True</td>\n",
       "      <td>False</td>\n",
       "      <td>True</td>\n",
       "      <td>True</td>\n",
       "      <td>False</td>\n",
       "      <td>True</td>\n",
       "      <td>True</td>\n",
       "      <td>False</td>\n",
       "      <td>True</td>\n",
       "    </tr>\n",
       "  </tbody>\n",
       "</table>\n",
       "</div>"
      ],
      "text/plain": [
       "        User1  User2  User3  User4  User5  User6  User7  User8  User9 User10  \\\n",
       "Hotel1  False   True  False   True   True  False   True   True  False   True   \n",
       "Hotel2   True   True  False  False   True   True  False   True   True  False   \n",
       "Hotel3  False  False   True  False  False   True  False   True  False  False   \n",
       "Hotel4   True  False  False   True  False   True   True  False   True   True   \n",
       "Hotel5   True   True  False  False  False  False   True   True   True   True   \n",
       "Hotel6  False   True  False   True  False   True   True  False   True   True   \n",
       "\n",
       "       User11 User12  \n",
       "Hotel1  False   True  \n",
       "Hotel2  False  False  \n",
       "Hotel3  False   True  \n",
       "Hotel4  False   True  \n",
       "Hotel5  False  False  \n",
       "Hotel6  False   True  "
      ]
     },
     "execution_count": 231,
     "metadata": {},
     "output_type": "execute_result"
    }
   ],
   "source": [
    "# find 0 values\n",
    "no_rating_mask = (df == 0)\n",
    "no_rating_mask"
   ]
  },
  {
   "cell_type": "code",
   "execution_count": 232,
   "metadata": {
    "collapsed": false
   },
   "outputs": [],
   "source": [
    "#comes after\n",
    "#df[no_rating_mask] = None\n",
    "#df"
   ]
  },
  {
   "cell_type": "code",
   "execution_count": 233,
   "metadata": {
    "collapsed": false
   },
   "outputs": [
    {
     "data": {
      "text/plain": [
       "Hotel1    3.600000\n",
       "Hotel2    3.166667\n",
       "Hotel3    3.000000\n",
       "Hotel4    3.400000\n",
       "Hotel5    3.333333\n",
       "Hotel6    2.600000\n",
       "dtype: float64"
      ]
     },
     "execution_count": 233,
     "metadata": {},
     "output_type": "execute_result"
    }
   ],
   "source": [
    "# possibility 2 to find hotel rating mean values\n",
    "hotel_rating_averages = df[np.invert(no_rating_mask)].mean(axis=1)\n",
    "hotel_rating_averages"
   ]
  },
  {
   "cell_type": "code",
   "execution_count": 234,
   "metadata": {
    "collapsed": false
   },
   "outputs": [
    {
     "data": {
      "text/html": [
       "<div>\n",
       "<table border=\"1\" class=\"dataframe\">\n",
       "  <thead>\n",
       "    <tr style=\"text-align: right;\">\n",
       "      <th></th>\n",
       "      <th>User1</th>\n",
       "      <th>User2</th>\n",
       "      <th>User3</th>\n",
       "      <th>User4</th>\n",
       "      <th>User5</th>\n",
       "      <th>User6</th>\n",
       "      <th>User7</th>\n",
       "      <th>User8</th>\n",
       "      <th>User9</th>\n",
       "      <th>User10</th>\n",
       "      <th>User11</th>\n",
       "      <th>User12</th>\n",
       "    </tr>\n",
       "  </thead>\n",
       "  <tbody>\n",
       "    <tr>\n",
       "      <th>Hotel1</th>\n",
       "      <td>-2.6</td>\n",
       "      <td>-3.6</td>\n",
       "      <td>-0.6</td>\n",
       "      <td>-3.6</td>\n",
       "      <td>-3.6</td>\n",
       "      <td>1.4</td>\n",
       "      <td>-3.6</td>\n",
       "      <td>-3.6</td>\n",
       "      <td>1.4</td>\n",
       "      <td>-3.6</td>\n",
       "      <td>0.4</td>\n",
       "      <td>-3.6</td>\n",
       "    </tr>\n",
       "    <tr>\n",
       "      <th>Hotel2</th>\n",
       "      <td>-3.2</td>\n",
       "      <td>-3.2</td>\n",
       "      <td>1.8</td>\n",
       "      <td>0.8</td>\n",
       "      <td>-3.2</td>\n",
       "      <td>-3.2</td>\n",
       "      <td>0.8</td>\n",
       "      <td>-3.2</td>\n",
       "      <td>-3.2</td>\n",
       "      <td>-1.2</td>\n",
       "      <td>-2.2</td>\n",
       "      <td>-0.2</td>\n",
       "    </tr>\n",
       "    <tr>\n",
       "      <th>Hotel3</th>\n",
       "      <td>-1.0</td>\n",
       "      <td>1.0</td>\n",
       "      <td>-3.0</td>\n",
       "      <td>-2.0</td>\n",
       "      <td>-1.0</td>\n",
       "      <td>-3.0</td>\n",
       "      <td>0.0</td>\n",
       "      <td>-3.0</td>\n",
       "      <td>1.0</td>\n",
       "      <td>0.0</td>\n",
       "      <td>2.0</td>\n",
       "      <td>-3.0</td>\n",
       "    </tr>\n",
       "    <tr>\n",
       "      <th>Hotel4</th>\n",
       "      <td>-3.4</td>\n",
       "      <td>-1.4</td>\n",
       "      <td>0.6</td>\n",
       "      <td>-3.4</td>\n",
       "      <td>1.6</td>\n",
       "      <td>-3.4</td>\n",
       "      <td>-3.4</td>\n",
       "      <td>0.6</td>\n",
       "      <td>-3.4</td>\n",
       "      <td>-3.4</td>\n",
       "      <td>-1.4</td>\n",
       "      <td>-3.4</td>\n",
       "    </tr>\n",
       "    <tr>\n",
       "      <th>Hotel5</th>\n",
       "      <td>-3.3</td>\n",
       "      <td>-3.3</td>\n",
       "      <td>0.7</td>\n",
       "      <td>-0.3</td>\n",
       "      <td>0.7</td>\n",
       "      <td>-1.3</td>\n",
       "      <td>-3.3</td>\n",
       "      <td>-3.3</td>\n",
       "      <td>-3.3</td>\n",
       "      <td>-3.3</td>\n",
       "      <td>-1.3</td>\n",
       "      <td>1.7</td>\n",
       "    </tr>\n",
       "    <tr>\n",
       "      <th>Hotel6</th>\n",
       "      <td>-1.6</td>\n",
       "      <td>-2.6</td>\n",
       "      <td>0.4</td>\n",
       "      <td>-2.6</td>\n",
       "      <td>0.4</td>\n",
       "      <td>-2.6</td>\n",
       "      <td>-2.6</td>\n",
       "      <td>-0.6</td>\n",
       "      <td>-2.6</td>\n",
       "      <td>-2.6</td>\n",
       "      <td>1.4</td>\n",
       "      <td>-2.6</td>\n",
       "    </tr>\n",
       "  </tbody>\n",
       "</table>\n",
       "</div>"
      ],
      "text/plain": [
       "        User1  User2  User3  User4  User5  User6  User7  User8  User9  User10  \\\n",
       "Hotel1   -2.6   -3.6   -0.6   -3.6   -3.6    1.4   -3.6   -3.6    1.4    -3.6   \n",
       "Hotel2   -3.2   -3.2    1.8    0.8   -3.2   -3.2    0.8   -3.2   -3.2    -1.2   \n",
       "Hotel3   -1.0    1.0   -3.0   -2.0   -1.0   -3.0    0.0   -3.0    1.0     0.0   \n",
       "Hotel4   -3.4   -1.4    0.6   -3.4    1.6   -3.4   -3.4    0.6   -3.4    -3.4   \n",
       "Hotel5   -3.3   -3.3    0.7   -0.3    0.7   -1.3   -3.3   -3.3   -3.3    -3.3   \n",
       "Hotel6   -1.6   -2.6    0.4   -2.6    0.4   -2.6   -2.6   -0.6   -2.6    -2.6   \n",
       "\n",
       "        User11  User12  \n",
       "Hotel1     0.4    -3.6  \n",
       "Hotel2    -2.2    -0.2  \n",
       "Hotel3     2.0    -3.0  \n",
       "Hotel4    -1.4    -3.4  \n",
       "Hotel5    -1.3     1.7  \n",
       "Hotel6     1.4    -2.6  "
      ]
     },
     "execution_count": 234,
     "metadata": {},
     "output_type": "execute_result"
    }
   ],
   "source": [
    "# normalise dataset\n",
    "dfn = df.sub(hotel_rating_averages, axis=0)\n",
    "dfn = dfn.round(1)\n",
    "dfn"
   ]
  },
  {
   "cell_type": "code",
   "execution_count": 235,
   "metadata": {
    "collapsed": false
   },
   "outputs": [],
   "source": [
    "# put 0 values where no values was found\n",
    "dfn[no_rating_mask] = 0\n",
    "# and round values\n",
    "dfn = dfn.round(1)"
   ]
  },
  {
   "cell_type": "code",
   "execution_count": 236,
   "metadata": {
    "collapsed": false
   },
   "outputs": [
    {
     "data": {
      "text/html": [
       "<div>\n",
       "<table border=\"1\" class=\"dataframe\">\n",
       "  <thead>\n",
       "    <tr style=\"text-align: right;\">\n",
       "      <th></th>\n",
       "      <th>User1</th>\n",
       "      <th>User2</th>\n",
       "      <th>User3</th>\n",
       "      <th>User4</th>\n",
       "      <th>User5</th>\n",
       "      <th>User6</th>\n",
       "      <th>User7</th>\n",
       "      <th>User8</th>\n",
       "      <th>User9</th>\n",
       "      <th>User10</th>\n",
       "      <th>User11</th>\n",
       "      <th>User12</th>\n",
       "    </tr>\n",
       "  </thead>\n",
       "  <tbody>\n",
       "    <tr>\n",
       "      <th>Hotel1</th>\n",
       "      <td>-2.6</td>\n",
       "      <td>0.0</td>\n",
       "      <td>-0.6</td>\n",
       "      <td>0.0</td>\n",
       "      <td>0.0</td>\n",
       "      <td>1.4</td>\n",
       "      <td>0.0</td>\n",
       "      <td>0.0</td>\n",
       "      <td>1.4</td>\n",
       "      <td>0.0</td>\n",
       "      <td>0.4</td>\n",
       "      <td>0.0</td>\n",
       "    </tr>\n",
       "    <tr>\n",
       "      <th>Hotel2</th>\n",
       "      <td>0.0</td>\n",
       "      <td>0.0</td>\n",
       "      <td>1.8</td>\n",
       "      <td>0.8</td>\n",
       "      <td>0.0</td>\n",
       "      <td>0.0</td>\n",
       "      <td>0.8</td>\n",
       "      <td>0.0</td>\n",
       "      <td>0.0</td>\n",
       "      <td>-1.2</td>\n",
       "      <td>-2.2</td>\n",
       "      <td>-0.2</td>\n",
       "    </tr>\n",
       "    <tr>\n",
       "      <th>Hotel3</th>\n",
       "      <td>-1.0</td>\n",
       "      <td>1.0</td>\n",
       "      <td>0.0</td>\n",
       "      <td>-2.0</td>\n",
       "      <td>-1.0</td>\n",
       "      <td>0.0</td>\n",
       "      <td>0.0</td>\n",
       "      <td>0.0</td>\n",
       "      <td>1.0</td>\n",
       "      <td>0.0</td>\n",
       "      <td>2.0</td>\n",
       "      <td>0.0</td>\n",
       "    </tr>\n",
       "    <tr>\n",
       "      <th>Hotel4</th>\n",
       "      <td>0.0</td>\n",
       "      <td>-1.4</td>\n",
       "      <td>0.6</td>\n",
       "      <td>0.0</td>\n",
       "      <td>1.6</td>\n",
       "      <td>0.0</td>\n",
       "      <td>0.0</td>\n",
       "      <td>0.6</td>\n",
       "      <td>0.0</td>\n",
       "      <td>0.0</td>\n",
       "      <td>-1.4</td>\n",
       "      <td>0.0</td>\n",
       "    </tr>\n",
       "    <tr>\n",
       "      <th>Hotel5</th>\n",
       "      <td>0.0</td>\n",
       "      <td>0.0</td>\n",
       "      <td>0.7</td>\n",
       "      <td>-0.3</td>\n",
       "      <td>0.7</td>\n",
       "      <td>-1.3</td>\n",
       "      <td>0.0</td>\n",
       "      <td>0.0</td>\n",
       "      <td>0.0</td>\n",
       "      <td>0.0</td>\n",
       "      <td>-1.3</td>\n",
       "      <td>1.7</td>\n",
       "    </tr>\n",
       "    <tr>\n",
       "      <th>Hotel6</th>\n",
       "      <td>-1.6</td>\n",
       "      <td>0.0</td>\n",
       "      <td>0.4</td>\n",
       "      <td>0.0</td>\n",
       "      <td>0.4</td>\n",
       "      <td>0.0</td>\n",
       "      <td>0.0</td>\n",
       "      <td>-0.6</td>\n",
       "      <td>0.0</td>\n",
       "      <td>0.0</td>\n",
       "      <td>1.4</td>\n",
       "      <td>0.0</td>\n",
       "    </tr>\n",
       "  </tbody>\n",
       "</table>\n",
       "</div>"
      ],
      "text/plain": [
       "        User1  User2  User3  User4  User5  User6  User7  User8  User9  User10  \\\n",
       "Hotel1   -2.6    0.0   -0.6    0.0    0.0    1.4    0.0    0.0    1.4     0.0   \n",
       "Hotel2    0.0    0.0    1.8    0.8    0.0    0.0    0.8    0.0    0.0    -1.2   \n",
       "Hotel3   -1.0    1.0    0.0   -2.0   -1.0    0.0    0.0    0.0    1.0     0.0   \n",
       "Hotel4    0.0   -1.4    0.6    0.0    1.6    0.0    0.0    0.6    0.0     0.0   \n",
       "Hotel5    0.0    0.0    0.7   -0.3    0.7   -1.3    0.0    0.0    0.0     0.0   \n",
       "Hotel6   -1.6    0.0    0.4    0.0    0.4    0.0    0.0   -0.6    0.0     0.0   \n",
       "\n",
       "        User11  User12  \n",
       "Hotel1     0.4     0.0  \n",
       "Hotel2    -2.2    -0.2  \n",
       "Hotel3     2.0     0.0  \n",
       "Hotel4    -1.4     0.0  \n",
       "Hotel5    -1.3     1.7  \n",
       "Hotel6     1.4     0.0  "
      ]
     },
     "execution_count": 236,
     "metadata": {},
     "output_type": "execute_result"
    }
   ],
   "source": [
    "dfn"
   ]
  },
  {
   "cell_type": "code",
   "execution_count": 237,
   "metadata": {
    "collapsed": false
   },
   "outputs": [
    {
     "data": {
      "text/plain": [
       "<seaborn.axisgrid.PairGrid at 0x7fcba0d5bf10>"
      ]
     },
     "execution_count": 237,
     "metadata": {},
     "output_type": "execute_result"
    },
    {
     "data": {
      "image/png": "[encoded data removed]",
      "text/plain": [
       "<matplotlib.figure.Figure at 0x7fcba0d5bf90>"
      ]
     },
     "metadata": {},
     "output_type": "display_data"
    }
   ],
   "source": [
    "# inspect hotel similarities \n",
    "sns.pairplot(dfn.transpose())"
   ]
  },
  {
   "cell_type": "code",
   "execution_count": 238,
   "metadata": {
    "collapsed": false
   },
   "outputs": [
    {
     "name": "stdout",
     "output_type": "stream",
     "text": [
      "[(-2.6000000000000001, 0.0, -0.59999999999999998, 0.0, 0.0, 1.3999999999999999, 0.0, 0.0, 1.3999999999999999, 0.0, 0.40000000000000002, 0.0), (0.0, 0.0, 1.8, 0.80000000000000004, 0.0, 0.0, 0.80000000000000004, 0.0, 0.0, -1.2, -2.2000000000000002, -0.20000000000000001), (-1.0, 1.0, 0.0, -2.0, -1.0, 0.0, 0.0, 0.0, 1.0, 0.0, 2.0, 0.0), (0.0, -1.3999999999999999, 0.59999999999999998, 0.0, 1.6000000000000001, 0.0, 0.0, 0.59999999999999998, 0.0, 0.0, -1.3999999999999999, 0.0), (0.0, 0.0, 0.69999999999999996, -0.29999999999999999, 0.69999999999999996, -1.3, 0.0, 0.0, 0.0, 0.0, -1.3, 1.7), (-1.6000000000000001, 0.0, 0.40000000000000002, 0.0, 0.40000000000000002, 0.0, 0.0, -0.59999999999999998, 0.0, 0.0, 1.3999999999999999, 0.0)]\n"
     ]
    },
    {
     "data": {
      "image/png": "[encoded data removed]",
      "text/plain": [
       "<matplotlib.figure.Figure at 0x7fcba0eded50>"
      ]
     },
     "metadata": {},
     "output_type": "display_data"
    }
   ],
   "source": [
    "# we could also plot hotel recommendation values vectors \n",
    "soa = dfn.transpose().values\n",
    "print zip(*soa)\n",
    "X,Y,U,V,Z,E = zip(*soa)\n",
    "plt.figure()\n",
    "ax = plt.gca()\n",
    "ax.quiver(X,Y,U,V,Z,E, angles='xy',scale_units='xy',scale=1)\n",
    "ax.set_xlim([-1,4])\n",
    "ax.set_ylim([-1,1])\n",
    "plt.draw()\n",
    "plt.show()"
   ]
  },
  {
   "cell_type": "code",
   "execution_count": 239,
   "metadata": {
    "collapsed": false
   },
   "outputs": [
    {
     "data": {
      "text/html": [
       "<div>\n",
       "<table border=\"1\" class=\"dataframe\">\n",
       "  <thead>\n",
       "    <tr style=\"text-align: right;\">\n",
       "      <th></th>\n",
       "      <th>Hotel1</th>\n",
       "      <th>Hotel2</th>\n",
       "      <th>Hotel3</th>\n",
       "      <th>Hotel4</th>\n",
       "      <th>Hotel5</th>\n",
       "      <th>Hotel6</th>\n",
       "    </tr>\n",
       "  </thead>\n",
       "  <tbody>\n",
       "    <tr>\n",
       "      <th>Hotel1</th>\n",
       "      <td>1.00</td>\n",
       "      <td>-0.18</td>\n",
       "      <td>0.41</td>\n",
       "      <td>-0.10</td>\n",
       "      <td>-0.30</td>\n",
       "      <td>0.59</td>\n",
       "    </tr>\n",
       "    <tr>\n",
       "      <th>Hotel2</th>\n",
       "      <td>-0.18</td>\n",
       "      <td>1.00</td>\n",
       "      <td>-0.53</td>\n",
       "      <td>0.47</td>\n",
       "      <td>0.40</td>\n",
       "      <td>-0.31</td>\n",
       "    </tr>\n",
       "    <tr>\n",
       "      <th>Hotel3</th>\n",
       "      <td>0.41</td>\n",
       "      <td>-0.53</td>\n",
       "      <td>1.00</td>\n",
       "      <td>-0.62</td>\n",
       "      <td>-0.29</td>\n",
       "      <td>0.51</td>\n",
       "    </tr>\n",
       "    <tr>\n",
       "      <th>Hotel4</th>\n",
       "      <td>-0.10</td>\n",
       "      <td>0.47</td>\n",
       "      <td>-0.62</td>\n",
       "      <td>1.00</td>\n",
       "      <td>0.46</td>\n",
       "      <td>-0.24</td>\n",
       "    </tr>\n",
       "    <tr>\n",
       "      <th>Hotel5</th>\n",
       "      <td>-0.30</td>\n",
       "      <td>0.40</td>\n",
       "      <td>-0.29</td>\n",
       "      <td>0.46</td>\n",
       "      <td>1.00</td>\n",
       "      <td>-0.20</td>\n",
       "    </tr>\n",
       "    <tr>\n",
       "      <th>Hotel6</th>\n",
       "      <td>0.59</td>\n",
       "      <td>-0.31</td>\n",
       "      <td>0.51</td>\n",
       "      <td>-0.24</td>\n",
       "      <td>-0.20</td>\n",
       "      <td>1.00</td>\n",
       "    </tr>\n",
       "  </tbody>\n",
       "</table>\n",
       "</div>"
      ],
      "text/plain": [
       "        Hotel1  Hotel2  Hotel3  Hotel4  Hotel5  Hotel6\n",
       "Hotel1    1.00   -0.18    0.41   -0.10   -0.30    0.59\n",
       "Hotel2   -0.18    1.00   -0.53    0.47    0.40   -0.31\n",
       "Hotel3    0.41   -0.53    1.00   -0.62   -0.29    0.51\n",
       "Hotel4   -0.10    0.47   -0.62    1.00    0.46   -0.24\n",
       "Hotel5   -0.30    0.40   -0.29    0.46    1.00   -0.20\n",
       "Hotel6    0.59   -0.31    0.51   -0.24   -0.20    1.00"
      ]
     },
     "execution_count": 239,
     "metadata": {},
     "output_type": "execute_result"
    }
   ],
   "source": [
    "# pearson correlation similarity\n",
    "# option 1\n",
    "hotel_similarity_df = dfn.transpose().corr().round(2)\n",
    "hotel_similarity_df"
   ]
  },
  {
   "cell_type": "code",
   "execution_count": 240,
   "metadata": {
    "collapsed": false
   },
   "outputs": [
    {
     "data": {
      "text/plain": [
       "<matplotlib.axes._subplots.AxesSubplot at 0x7fcb9e8a7c50>"
      ]
     },
     "execution_count": 240,
     "metadata": {},
     "output_type": "execute_result"
    },
    {
     "data": {
      "image/png": "[encoded data removed]",
      "text/plain": [
       "<matplotlib.figure.Figure at 0x7fcb9e7d6290>"
      ]
     },
     "metadata": {},
     "output_type": "display_data"
    }
   ],
   "source": [
    "sns.heatmap(hotel_similarity_df, annot=True)"
   ]
  },
  {
   "cell_type": "code",
   "execution_count": 241,
   "metadata": {
    "collapsed": false
   },
   "outputs": [
    {
     "name": "stdout",
     "output_type": "stream",
     "text": [
      "hotel pairwise similarity:\n",
      "   (0, 4)\t-0.30440518162\n",
      "  (0, 3)\t-0.102450142733\n",
      "  (0, 1)\t-0.177882170047\n",
      "  (0, 5)\t0.587039508564\n",
      "  (0, 2)\t0.414039335605\n",
      "  (0, 0)\t1.0\n",
      "  (1, 2)\t-0.526072967874\n",
      "  (1, 5)\t-0.314337134669\n",
      "  (1, 4)\t0.396862981681\n",
      "  (1, 3)\t0.470882381601\n",
      "  (1, 1)\t1.0\n",
      "  (1, 0)\t-0.177882170047\n",
      "  (2, 4)\t-0.287690228501\n",
      "  (2, 1)\t-0.526072967874\n",
      "  (2, 3)\t-0.623980650222\n",
      "  (2, 5)\t0.506369683542\n",
      "  (2, 2)\t1.0\n",
      "  (2, 0)\t0.414039335605\n",
      "  (3, 5)\t-0.235339362166\n",
      "  (3, 4)\t0.46219474056\n",
      "  (3, 1)\t0.470882381601\n",
      "  (3, 0)\t-0.102450142733\n",
      "  (3, 3)\t1.0\n",
      "  (3, 2)\t-0.623980650222\n",
      "  (4, 2)\t-0.287690228501\n",
      "  (4, 5)\t-0.20394865395\n",
      "  (4, 4)\t1.0\n",
      "  (4, 3)\t0.46219474056\n",
      "  (4, 1)\t0.396862981681\n",
      "  (4, 0)\t-0.30440518162\n",
      "  (5, 4)\t-0.20394865395\n",
      "  (5, 3)\t-0.235339362166\n",
      "  (5, 1)\t-0.314337134669\n",
      "  (5, 5)\t1.0\n",
      "  (5, 2)\t0.506369683542\n",
      "  (5, 0)\t0.587039508564\n",
      "\n"
     ]
    }
   ],
   "source": [
    "# we couuld also calculate hotel similarities this way\n",
    "from sklearn.metrics.pairwise import cosine_similarity\n",
    "from scipy import sparse\n",
    "\n",
    "A_sparse = sparse.csr_matrix(dfn.as_matrix())\n",
    "\n",
    "#also can output sparse matrices\n",
    "similarities_sparse = cosine_similarity(A_sparse, dense_output=False)\n",
    "print('hotel pairwise similarity:\\n {}\\n'.format(similarities_sparse))"
   ]
  },
  {
   "cell_type": "markdown",
   "metadata": {},
   "source": [
    "# now lets calculate how would the user 5 rate the hotel 1"
   ]
  },
  {
   "cell_type": "code",
   "execution_count": 242,
   "metadata": {
    "collapsed": false
   },
   "outputs": [
    {
     "data": {
      "text/plain": [
       "Hotel1     True\n",
       "Hotel2    False\n",
       "Hotel3     True\n",
       "Hotel4    False\n",
       "Hotel5    False\n",
       "Hotel6     True\n",
       "Name: Hotel1, dtype: bool"
      ]
     },
     "execution_count": 242,
     "metadata": {},
     "output_type": "execute_result"
    }
   ],
   "source": [
    "# Hotel1 is most similar to the Hotels 3 and 6\n",
    "mask = hotel_similarity_df[\"Hotel1\"] > 0.30\n",
    "mask"
   ]
  },
  {
   "cell_type": "code",
   "execution_count": 243,
   "metadata": {
    "collapsed": false
   },
   "outputs": [
    {
     "data": {
      "text/plain": [
       "array([2, 3])"
      ]
     },
     "execution_count": 243,
     "metadata": {},
     "output_type": "execute_result"
    }
   ],
   "source": [
    "# take ratings of most similar hotels (3 and 6)\n",
    "hotel_ratings = df.User5[mask].values[1:]\n",
    "hotel_ratings"
   ]
  },
  {
   "cell_type": "code",
   "execution_count": 244,
   "metadata": {
    "collapsed": false
   },
   "outputs": [
    {
     "data": {
      "text/plain": [
       "array([ 0.41,  0.59])"
      ]
     },
     "execution_count": 244,
     "metadata": {},
     "output_type": "execute_result"
    }
   ],
   "source": [
    "# take similarities of most similar hotels (3 and 6)\n",
    "hotel_sim = hotel_similarity_df.Hotel1[mask].values[1:]\n",
    "hotel_sim"
   ]
  },
  {
   "cell_type": "code",
   "execution_count": 245,
   "metadata": {
    "collapsed": false
   },
   "outputs": [
    {
     "name": "stdout",
     "output_type": "stream",
     "text": [
      "User 5 would rate Hotel 1 with:  2.6  stars\n"
     ]
    }
   ],
   "source": [
    "#calculate rating for hotel 1 from user 5\n",
    "# predict by taking weighted average\n",
    "r_15 = sum(mov_ratings * mov_sim) / sum(mov_sim)\n",
    "print \"User 5 would rate Hotel 1 with: \", round(r_15,1), \" stars\""
   ]
  }
 ],
 "metadata": {
  "anaconda-cloud": {},
  "kernelspec": {
   "display_name": "Python [default]",
   "language": "python",
   "name": "python2"
  },
  "language_info": {
   "codemirror_mode": {
    "name": "ipython",
    "version": 2
   },
   "file_extension": ".py",
   "mimetype": "text/x-python",
   "name": "python",
   "nbconvert_exporter": "python",
   "pygments_lexer": "ipython2",
   "version": "2.7.12"
  }
 },
 "nbformat": 4,
 "nbformat_minor": 0
}
